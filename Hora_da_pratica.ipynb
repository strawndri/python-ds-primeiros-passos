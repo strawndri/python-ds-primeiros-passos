{
  "nbformat": 4,
  "nbformat_minor": 0,
  "metadata": {
    "colab": {
      "provenance": [],
      "include_colab_link": true
    },
    "kernelspec": {
      "name": "python3",
      "display_name": "Python 3"
    },
    "language_info": {
      "name": "python"
    }
  },
  "cells": [
    {
      "cell_type": "markdown",
      "metadata": {
        "id": "view-in-github",
        "colab_type": "text"
      },
      "source": [
        "<a href=\"https://colab.research.google.com/github/strawndri/python-ds-primeiros-passos/blob/main/Hora_da_pratica.ipynb\" target=\"_parent\"><img src=\"https://colab.research.google.com/assets/colab-badge.svg\" alt=\"Open In Colab\"/></a>"
      ]
    },
    {
      "cell_type": "markdown",
      "source": [
        "# Sobre o notebook\n",
        "\n",
        "A \"hora da prática\" é uma atividade do curso de Python para Data Science da Alura que contém diversos desafios envolvendo os aprendizados de cada aula.\n",
        "\n",
        "O notebook \"hora da pratica\" é um notebook construído com espaço para as células dos desafios propostos no curso, com ele você tem espaço para construir e executar suas soluções"
      ],
      "metadata": {
        "id": "_kwAaQ36gLQ1"
      }
    },
    {
      "cell_type": "markdown",
      "source": [
        "## Aula 1 - Introdução ao Python"
      ],
      "metadata": {
        "id": "Mc-KN0dA0Z83"
      }
    },
    {
      "cell_type": "markdown",
      "source": [
        "### Questão 1\n",
        "\n",
        "Imprima a frase `Escola de Dados da Alura!`"
      ],
      "metadata": {
        "id": "l5eLWf0W0ikn"
      }
    },
    {
      "cell_type": "code",
      "source": [
        "print('Escola de Dados da Alura')"
      ],
      "metadata": {
        "id": "5pllxJ0h0-yA",
        "colab": {
          "base_uri": "https://localhost:8080/"
        },
        "outputId": "aa257217-f86f-4ecf-8bff-4b3353f52802"
      },
      "execution_count": null,
      "outputs": [
        {
          "output_type": "stream",
          "name": "stdout",
          "text": [
            "Escola de Dados da Alura\n"
          ]
        }
      ]
    },
    {
      "cell_type": "markdown",
      "source": [
        "### Questão 2\n",
        "Imprima na tela seu nome e seu sobrenome seguindo a estrutura abaixo:\n",
        "```\n",
        "Nome: [seu nome]\n",
        "Sobrenome: [seu sobrenome]\n",
        "```\n"
      ],
      "metadata": {
        "id": "tQdX90Ue03c7"
      }
    },
    {
      "cell_type": "code",
      "source": [
        "print('Nome: Andrieli\\nSobrenome: Gonçalves')"
      ],
      "metadata": {
        "id": "RVw5iKn20_Ps",
        "colab": {
          "base_uri": "https://localhost:8080/"
        },
        "outputId": "5086c4e7-3743-4207-8c89-e1f52de69788"
      },
      "execution_count": null,
      "outputs": [
        {
          "output_type": "stream",
          "name": "stdout",
          "text": [
            "Nome: Andrieli\n",
            "Sobrenome: Gonçalves\n"
          ]
        }
      ]
    },
    {
      "cell_type": "markdown",
      "source": [
        "### Questão 3\n",
        "Imprima o seu primeiro nome letra a letra. Por exemplo, nome é Mirla, então eu obtenho a seguinte saída:\n",
        "```\n",
        "M\n",
        "I\n",
        "R\n",
        "L\n",
        "A\n",
        "```\n"
      ],
      "metadata": {
        "id": "gfg-aiip03vC"
      }
    },
    {
      "cell_type": "code",
      "source": [
        "print('A')\n",
        "print('N')\n",
        "print('D')\n",
        "print('R')\n",
        "print('I')\n",
        "print('E')\n",
        "print('L')\n",
        "print('I')"
      ],
      "metadata": {
        "id": "v5bkrgf60_qx",
        "colab": {
          "base_uri": "https://localhost:8080/"
        },
        "outputId": "4acdd7d9-f0d2-4f10-debe-1aae7b74253f"
      },
      "execution_count": null,
      "outputs": [
        {
          "output_type": "stream",
          "name": "stdout",
          "text": [
            "A\n",
            "N\n",
            "D\n",
            "R\n",
            "I\n",
            "E\n",
            "L\n",
            "I\n"
          ]
        }
      ]
    },
    {
      "cell_type": "markdown",
      "source": [
        "### Questão 4\n",
        "Imprima o dia do seu nascimento em formato `dia mês ano`. Os valores de dia e ano não podem estar entre aspas. O formato deve estar como no exemplo, supondo uma data de aniversário dia 28 de fevereiro de 2003:\n",
        "```\n",
        "28 fevereiro 2003\n",
        "```"
      ],
      "metadata": {
        "id": "oadrJbl704MM"
      }
    },
    {
      "cell_type": "code",
      "source": [
        "print(3, 'junho', 2005)"
      ],
      "metadata": {
        "id": "cx0KSsrq1ALD",
        "colab": {
          "base_uri": "https://localhost:8080/"
        },
        "outputId": "2cd2a65e-16db-4c45-922b-238ca2277c0c"
      },
      "execution_count": null,
      "outputs": [
        {
          "output_type": "stream",
          "name": "stdout",
          "text": [
            "3 junho 2005\n"
          ]
        }
      ]
    },
    {
      "cell_type": "markdown",
      "source": [
        "### Questão 5\n",
        "Imprima em um único print o atual ano que você está fazendo esse curso, o valor do ano deve ser um dado numérico. A saída do print deve ser a seguinte:\n",
        "```\n",
        "Ano atual: [ano]\n",
        "```\n"
      ],
      "metadata": {
        "id": "3RgyMaan04TD"
      }
    },
    {
      "cell_type": "code",
      "execution_count": null,
      "metadata": {
        "id": "UN77EfQ2d36Y",
        "colab": {
          "base_uri": "https://localhost:8080/"
        },
        "outputId": "0bd20a82-8e48-492d-d372-d30017f795a0"
      },
      "outputs": [
        {
          "output_type": "stream",
          "name": "stdout",
          "text": [
            "Ano atual: 2023\n"
          ]
        }
      ],
      "source": [
        "print('Ano atual:', 2023)"
      ]
    },
    {
      "cell_type": "markdown",
      "source": [
        "## Aula 2 - Manipulando dados no Python"
      ],
      "metadata": {
        "id": "D9e3FqhO1S3X"
      }
    },
    {
      "cell_type": "markdown",
      "source": [
        "### Coleta e amostragem de dados"
      ],
      "metadata": {
        "id": "n6o7C1Ze2cRe"
      }
    },
    {
      "cell_type": "markdown",
      "source": [
        "#### Questão 1\n",
        "Crie um programa que solicite à pessoa usuária digitar seu nome, e imprima “Olá, [nome]!”."
      ],
      "metadata": {
        "id": "sRneWag9PV5Q"
      }
    },
    {
      "cell_type": "code",
      "source": [
        "nome = input('> Digite seu nome: ')\n",
        "print(f'Olá, {nome}.')"
      ],
      "metadata": {
        "id": "dbX1fKqy2HnE",
        "outputId": "2e2ba2bb-4e23-4f5d-e99a-5fe404832a9e",
        "colab": {
          "base_uri": "https://localhost:8080/"
        }
      },
      "execution_count": null,
      "outputs": [
        {
          "output_type": "stream",
          "name": "stdout",
          "text": [
            "> Digite seu nome: Andrieli\n",
            "Olá, Andrieli.\n"
          ]
        }
      ]
    },
    {
      "cell_type": "markdown",
      "source": [
        "#### Questão 2\n",
        "Crie um programa que solicite à pessoa usuária digitar seu nome e idade, e imprima “Olá, [nome], você tem [idade] anos.”."
      ],
      "metadata": {
        "id": "BJ1SznEp70d5"
      }
    },
    {
      "cell_type": "code",
      "source": [
        "nome = input('> Digite seu nome: ')\n",
        "idade = int(input('> Digite sua idade: '))\n",
        "print(f'Olá, {nome}, você tem {idade} anos.')"
      ],
      "metadata": {
        "id": "jKz-0Sq8PFkp",
        "outputId": "940069d1-a42f-46ec-e925-2e45d6c0ecee",
        "colab": {
          "base_uri": "https://localhost:8080/"
        }
      },
      "execution_count": null,
      "outputs": [
        {
          "output_type": "stream",
          "name": "stdout",
          "text": [
            "> Digite seu nome: Andrieli\n",
            "> Digite sua idade: 18\n",
            "Olá, Andrieli, você tem 18 anos.\n"
          ]
        }
      ]
    },
    {
      "cell_type": "markdown",
      "source": [
        "#### Questão 3\n",
        "Crie um programa que solicite à pessoa usuária digitar seu nome, idade e altura em metros, e imprima “Olá, [nome], você tem [idade] anos e mede [altura] metros!”."
      ],
      "metadata": {
        "id": "2T0jNYZt70aa"
      }
    },
    {
      "cell_type": "code",
      "source": [
        "nome = input('> Digite seu nome: ')\n",
        "idade = int(input('> Digite sua idade: '))\n",
        "altura = float(input('> Digite sua altura (em metros): '))\n",
        "print(f'Olá, {nome}, você tem {idade} anos e mede {altura} metros!')"
      ],
      "metadata": {
        "id": "pI4kHNzTPIXh",
        "outputId": "ad0006e1-8ebb-4fe8-e6dd-11ca2d3c2557",
        "colab": {
          "base_uri": "https://localhost:8080/"
        }
      },
      "execution_count": null,
      "outputs": [
        {
          "output_type": "stream",
          "name": "stdout",
          "text": [
            "> Digite seu nome: Andrieli\n",
            "> Digite sua idade: 18\n",
            "> Digite sua altura (em metros): 1.56\n",
            "Olá, Andrieli, você tem 18 anos e mede 1.56 metros!\n"
          ]
        }
      ]
    },
    {
      "cell_type": "markdown",
      "source": [
        "### Calculadora com operadores"
      ],
      "metadata": {
        "id": "mEBFwKkC70KP"
      }
    },
    {
      "cell_type": "markdown",
      "source": [
        "#### Questão 1\n",
        "\n",
        "Crie um programa que solicite dois valores numéricos à pessoa usuária e imprima a soma dos dois valores."
      ],
      "metadata": {
        "id": "H-IV1oAPPSqK"
      }
    },
    {
      "cell_type": "code",
      "source": [
        "numero_1 = int(input('> Digite um número: '))\n",
        "numero_2 = int(input('> Digite outro número: '))\n",
        "resultado = numero_1 + numero_2\n",
        "print(f'A soma entre {numero_1} e {numero_2} é igual a {resultado}.')"
      ],
      "metadata": {
        "id": "Zb0W84sy8rnp",
        "outputId": "63d75606-dde9-4239-b009-0dad45499ef8",
        "colab": {
          "base_uri": "https://localhost:8080/"
        }
      },
      "execution_count": null,
      "outputs": [
        {
          "output_type": "stream",
          "name": "stdout",
          "text": [
            "> Digite um número: 7\n",
            "> Digite outro número: 3\n",
            "A soma entre 7 e 3 é igual a 10.\n"
          ]
        }
      ]
    },
    {
      "cell_type": "markdown",
      "source": [
        "#### Questão 2\n",
        "Crie um programa que solicite três valores numéricos à pessoa usuária e imprima a soma dos três valores."
      ],
      "metadata": {
        "id": "LUoi2MOu70Em"
      }
    },
    {
      "cell_type": "code",
      "source": [
        "numero_1 = int(input('> Digite um número: '))\n",
        "numero_2 = int(input('> Digite outro número: '))\n",
        "numero_3 = int(input('> Digite outro número: '))\n",
        "resultado = numero_1 + numero_2 + numero_3\n",
        "print(f'A soma entre {numero_1}, {numero_2} e {numero_3} é igual a {resultado}.')"
      ],
      "metadata": {
        "id": "4FYjWyBS8rDm",
        "outputId": "1497d564-b7f2-4c04-9a6e-673079a2481a",
        "colab": {
          "base_uri": "https://localhost:8080/"
        }
      },
      "execution_count": null,
      "outputs": [
        {
          "output_type": "stream",
          "name": "stdout",
          "text": [
            "> Digite um número: 3\n",
            "> Digite outro número: 4\n",
            "> Digite outro número: 3\n",
            "A soma entre 3, 4 e 3 é igual a 10.\n"
          ]
        }
      ]
    },
    {
      "cell_type": "markdown",
      "source": [
        "#### Questão 3\n",
        "Crie um programa que solicite dois valores numéricos à pessoa usuária e imprima a subtração do primeiro pelo o segundo valor."
      ],
      "metadata": {
        "id": "lezGctF07z8i"
      }
    },
    {
      "cell_type": "code",
      "source": [
        "numero_1 = int(input('> Digite um número: '))\n",
        "numero_2 = int(input('> Digite outro número: '))\n",
        "resultado = numero_1 - numero_2\n",
        "print(f'A subtração entre {numero_1} e {numero_2} é igual a {resultado}.')"
      ],
      "metadata": {
        "id": "k0GE1z4w8p3J",
        "outputId": "3a895293-6d33-4468-ee8a-3e5528269439",
        "colab": {
          "base_uri": "https://localhost:8080/"
        }
      },
      "execution_count": null,
      "outputs": [
        {
          "output_type": "stream",
          "name": "stdout",
          "text": [
            "> Digite um número: 10\n",
            "> Digite outro número: 3\n",
            "A subtração entre 10 e 3 é igual a 7.\n"
          ]
        }
      ]
    },
    {
      "cell_type": "markdown",
      "source": [
        "#### Questão 4\n",
        "\n",
        "Crie um programa que solicite dois valores numéricos à pessoa usuária e imprima a multiplicação dos dois valores.\n"
      ],
      "metadata": {
        "id": "wwMP-dPU7zxW"
      }
    },
    {
      "cell_type": "code",
      "source": [
        "numero_1 = int(input('> Digite um número: '))\n",
        "numero_2 = int(input('> Digite outro número: '))\n",
        "resultado = numero_1 * numero_2\n",
        "print(f'O produto entre {numero_1} e {numero_2} é igual a {resultado}.')"
      ],
      "metadata": {
        "id": "GzFCVHfp8peZ",
        "outputId": "d71118eb-ba79-42c3-9d90-a17a799bc5ee",
        "colab": {
          "base_uri": "https://localhost:8080/"
        }
      },
      "execution_count": null,
      "outputs": [
        {
          "output_type": "stream",
          "name": "stdout",
          "text": [
            "> Digite um número: 3\n",
            "> Digite outro número: 4\n",
            "O produto entre 3 e 4 é igual a 12.\n"
          ]
        }
      ]
    },
    {
      "cell_type": "markdown",
      "source": [
        "#### Questão 5\n",
        "\n",
        "Crie um programa que solicite dois valores numéricos, um numerador e um denominador, e realize a divisão entre os dois valores. Deixe claro que o valor do denominador não pode ser `0`.\n"
      ],
      "metadata": {
        "id": "9kxyHxUo7zRD"
      }
    },
    {
      "cell_type": "code",
      "source": [
        "numero_1 = int(input('> Digite um numero: '))\n",
        "numero_2 = int(input('> Digite outro número (ele deve ser diferente de 0): '))\n",
        "resultado = numero_1 / numero_2\n",
        "print(f'A razão entre {numero_1} e {numero_2} é igual a {resultado}.')"
      ],
      "metadata": {
        "id": "ytJ8l5KH8ozc",
        "outputId": "7dc7529f-520f-4be7-c17a-88971a164f7d",
        "colab": {
          "base_uri": "https://localhost:8080/"
        }
      },
      "execution_count": null,
      "outputs": [
        {
          "output_type": "stream",
          "name": "stdout",
          "text": [
            "> Digite um numero: 10\n",
            "> Digite outro número (ele deve ser diferente de 0): 2\n",
            "A razão entre 10 e 2 é igual a 5.0.\n"
          ]
        }
      ]
    },
    {
      "cell_type": "markdown",
      "source": [
        "#### Questão 6\n",
        "\n",
        "Crie um programa que solicite dois valores numéricos, um operador e uma potência, e realize a exponenciação entre esses dois valores.\n"
      ],
      "metadata": {
        "id": "zkUSBTQq8Hxt"
      }
    },
    {
      "cell_type": "code",
      "source": [
        "numero_1 = int(input('> Digite um número: '))\n",
        "numero_2 = int(input('> Digite outro número: '))\n",
        "resultado = numero_1 ** numero_2\n",
        "print(f'{numero_1} elevado a {numero_2} é igual a {resultado}.')"
      ],
      "metadata": {
        "id": "RPj36jq08oZp",
        "outputId": "7fb2d49d-5f24-4110-bd5c-665aa3ce0abb",
        "colab": {
          "base_uri": "https://localhost:8080/"
        }
      },
      "execution_count": null,
      "outputs": [
        {
          "output_type": "stream",
          "name": "stdout",
          "text": [
            "> Digite um número: 2\n",
            "> Digite outro número: 2\n",
            "2 elevado a 2 é igual a 4.\n"
          ]
        }
      ]
    },
    {
      "cell_type": "markdown",
      "source": [
        "#### Questão 7\n",
        "Crie um programa que solicite dois valores numéricos, um numerador e um denominador e realize a divisão inteira entre os dois valores. Deixe claro que o valor do denominador não pode ser `0`."
      ],
      "metadata": {
        "id": "yiunIusZ8Huj"
      }
    },
    {
      "cell_type": "code",
      "source": [
        "numero_1 = int(input('> Digite um número: '))\n",
        "numero_2 = int(input('> Digite outro número (diferente de 0): '))\n",
        "resultado = numero_1 // numero_2\n",
        "print(f'A razão inteira entre {numero_1} e {numero_2} é igual a {resultado}.')"
      ],
      "metadata": {
        "id": "UHK8xITf8oCg",
        "outputId": "a6e3d31b-cd8f-47b8-8faf-3619854b26c7",
        "colab": {
          "base_uri": "https://localhost:8080/"
        }
      },
      "execution_count": null,
      "outputs": [
        {
          "output_type": "stream",
          "name": "stdout",
          "text": [
            "> Digite um número: 13\n",
            "> Digite outro número (diferente de 0): 9\n",
            "A razão inteira entre 13 e 9 é igual a 1.\n"
          ]
        }
      ]
    },
    {
      "cell_type": "markdown",
      "source": [
        "#### Questão 8\n",
        "\n",
        "Crie um programa que solicite dois valores numéricos, um numerador e um denominador, e retorne o resto da divisão entre os dois valores. Deixe claro que o valor do denominador não pode ser `0`."
      ],
      "metadata": {
        "id": "z_D_JiLX8Hra"
      }
    },
    {
      "cell_type": "code",
      "source": [
        "numero_1 = int(input('> Digite um número: '))\n",
        "numero_2 = int(input('> Digite outro número (diferente de 0): '))\n",
        "resultado = numero_1 % numero_2\n",
        "print(f'O resto da divisão entre {numero_1} e {numero_2} é igual a {resultado}.')"
      ],
      "metadata": {
        "id": "EWGJeukO8nqx",
        "outputId": "e21bf723-779b-4fa8-9a43-ca186f4cfc11",
        "colab": {
          "base_uri": "https://localhost:8080/"
        }
      },
      "execution_count": null,
      "outputs": [
        {
          "output_type": "stream",
          "name": "stdout",
          "text": [
            "> Digite um número: 3\n",
            "> Digite outro número (diferente de 0): 2\n",
            "O resto da divisão entre 3 e 2 é igual a 1.\n"
          ]
        }
      ]
    },
    {
      "cell_type": "markdown",
      "source": [
        "#### Questão 9\n",
        "\n",
        "Crie um código que solicita 3 notas de um estudante e imprima a média das notas."
      ],
      "metadata": {
        "id": "RDRajNkU8N8N"
      }
    },
    {
      "cell_type": "code",
      "source": [
        "nota_1 = float(input('> Digita a primeira nota: '))\n",
        "nota_2 = float(input('> Digita a segunda nota: '))\n",
        "nota_3 = float(input('> Digita a terceira nota: '))\n",
        "media = ((nota_1 + nota_2 + nota_3)/3)\n",
        "print(f'A média aritmética entre as notas {nota_1}, {nota_2} e {nota_3} é igual a {media:.2f}.')"
      ],
      "metadata": {
        "id": "H6F4Ojzt8nSR",
        "outputId": "a55c9102-b5a0-4fbd-8cfc-de09e0391c51",
        "colab": {
          "base_uri": "https://localhost:8080/"
        }
      },
      "execution_count": null,
      "outputs": [
        {
          "output_type": "stream",
          "name": "stdout",
          "text": [
            "> Digita a primeira nota: 10\n",
            "> Digita a segunda nota: 8\n",
            "> Digita a terceira nota: 7\n",
            "A média aritmética entre as notas 10.0, 8.0 e 7.0 é igual a 8.33.\n"
          ]
        }
      ]
    },
    {
      "cell_type": "markdown",
      "source": [
        "#### Questão 10\n",
        "\n",
        "Crie um código que calcule e imprima a média ponderada dos números 5, 12, 20 e 15 com pesos respectivamente iguais a 1, 2, 3 e 4."
      ],
      "metadata": {
        "id": "d7fjkne58N21"
      }
    },
    {
      "cell_type": "code",
      "source": [
        "media_ponderada = ((5*1) + (12*2) + (20*3) + (14*4))/(1+2+3+4)\n",
        "print(f'A média ponderada é: {media_ponderada}.')"
      ],
      "metadata": {
        "id": "fwjoHlV48mkv",
        "outputId": "1157357d-dbcd-430b-f942-94640e4ea884",
        "colab": {
          "base_uri": "https://localhost:8080/"
        }
      },
      "execution_count": null,
      "outputs": [
        {
          "output_type": "stream",
          "name": "stdout",
          "text": [
            "A média ponderada é: 14.5.\n"
          ]
        }
      ]
    },
    {
      "cell_type": "markdown",
      "source": [
        "### Editando textos"
      ],
      "metadata": {
        "id": "GNmbX1OU8N0V"
      }
    },
    {
      "cell_type": "markdown",
      "source": [
        "#### Questão 1\n",
        "\n",
        "Crie uma variável chamada “`frase`” e atribua a ela uma string de sua escolha. Em seguida, imprima a frase na tela."
      ],
      "metadata": {
        "id": "6wZ85mCsRCV0"
      }
    },
    {
      "cell_type": "code",
      "source": [
        "frase = 'Revisando Python com a Alura!'\n",
        "print(frase)"
      ],
      "metadata": {
        "id": "eRqr_gh-8mFy",
        "outputId": "f06643f3-9ba9-4474-8427-a7950b5bf741",
        "colab": {
          "base_uri": "https://localhost:8080/"
        }
      },
      "execution_count": null,
      "outputs": [
        {
          "output_type": "stream",
          "name": "stdout",
          "text": [
            "Revisando Python com a Alura!\n"
          ]
        }
      ]
    },
    {
      "cell_type": "markdown",
      "source": [
        "#### Questão 2\n",
        "Crie um código que solicite uma frase e depois imprima a frase na tela."
      ],
      "metadata": {
        "id": "Aac17z-18Nwv"
      }
    },
    {
      "cell_type": "code",
      "source": [
        "frase = input('> Digita uma frase: ')\n",
        "print(frase)"
      ],
      "metadata": {
        "id": "8zfE2hh98lb0",
        "outputId": "60248786-b348-460c-e598-c1c0854e87fc",
        "colab": {
          "base_uri": "https://localhost:8080/"
        }
      },
      "execution_count": null,
      "outputs": [
        {
          "output_type": "stream",
          "name": "stdout",
          "text": [
            "> Digita uma frase: Consolidando aprendizagens sobre análise de dados!\n",
            "Consolidando aprendizagens sobre análise de dados!\n"
          ]
        }
      ]
    },
    {
      "cell_type": "markdown",
      "source": [
        "#### Questão 3\n",
        "\n",
        "Crie um código que solicite uma frase à pessoa usuária e imprima a mesma frase digitada mas com todas as letras maiúsculas."
      ],
      "metadata": {
        "id": "DXVzqpN58Ntr"
      }
    },
    {
      "cell_type": "code",
      "source": [
        "frase = input('> Digita uma frase: ').upper()\n",
        "print(frase)"
      ],
      "metadata": {
        "id": "KD8rNy2K8kox",
        "outputId": "633ae691-9f32-4951-ee0a-081ceab35deb",
        "colab": {
          "base_uri": "https://localhost:8080/"
        }
      },
      "execution_count": null,
      "outputs": [
        {
          "output_type": "stream",
          "name": "stdout",
          "text": [
            "> Digita uma frase: consolidando aprendizagens sobre análise de dados!\n",
            "CONSOLIDANDO APRENDIZAGENS SOBRE ANÁLISE DE DADOS!\n"
          ]
        }
      ]
    },
    {
      "cell_type": "markdown",
      "source": [
        "#### Questão 4\n",
        "\n",
        "Crie um código que solicite uma frase à pessoa usuária e imprima a mesma frase digitada mas com todas as letras minúsculas."
      ],
      "metadata": {
        "id": "I12VeNPK8Nqb"
      }
    },
    {
      "cell_type": "code",
      "source": [
        "frase = input('> Digita uma frase: ').lower()\n",
        "print(frase)"
      ],
      "metadata": {
        "id": "d0VzoYP68k-I",
        "outputId": "1dc0fe80-9e4b-4caa-86ff-76f0baae67d1",
        "colab": {
          "base_uri": "https://localhost:8080/"
        }
      },
      "execution_count": null,
      "outputs": [
        {
          "output_type": "stream",
          "name": "stdout",
          "text": [
            "> Digita uma frase: CONSOLIDANDO APRENDIZAGENS SOBRE ANÁLISE DE DADOS\n",
            "consolidando aprendizagens sobre análise de dados\n"
          ]
        }
      ]
    },
    {
      "cell_type": "markdown",
      "source": [
        "#### Questão 5\n",
        "\n",
        "Crie uma variável chamada “`frase`” e atribua a ela uma string de sua escolha. Em seguida, imprima a frase sem espaços em branco no início e no fim."
      ],
      "metadata": {
        "id": "cRqngSE48Nog"
      }
    },
    {
      "cell_type": "code",
      "source": [
        "frase = '  Andri Gonçalves  '.strip()\n",
        "print(frase)"
      ],
      "metadata": {
        "id": "aSCpdF-o8kBs",
        "outputId": "8d15b24c-8579-40d8-f4f0-c239bb6324bb",
        "colab": {
          "base_uri": "https://localhost:8080/"
        }
      },
      "execution_count": null,
      "outputs": [
        {
          "output_type": "stream",
          "name": "stdout",
          "text": [
            "Andri Gonçalves\n"
          ]
        }
      ]
    },
    {
      "cell_type": "markdown",
      "source": [
        "#### Questão 6\n",
        "\n",
        "Crie um código que solicite uma frase à pessoa usuária e imprima a mesma frase sem espaços em branco no início e no fim."
      ],
      "metadata": {
        "id": "murIazpQ8Nkv"
      }
    },
    {
      "cell_type": "code",
      "source": [
        "frase = input('> Digite uma frase: ').strip()\n",
        "print(frase)"
      ],
      "metadata": {
        "id": "tHunjwuG8jNq",
        "outputId": "8d8bc33e-b591-42e8-e013-42c2f624eeb1",
        "colab": {
          "base_uri": "https://localhost:8080/"
        }
      },
      "execution_count": null,
      "outputs": [
        {
          "output_type": "stream",
          "name": "stdout",
          "text": [
            "> Digite uma frase:                               Consolidando aprendizagens sobre análise de dados.\n",
            "Consolidando aprendizagens sobre análise de dados.\n"
          ]
        }
      ]
    },
    {
      "cell_type": "markdown",
      "source": [
        "#### Questão 7\n",
        "\n",
        "\n",
        "Crie um código que solicite uma frase à pessoa usuária e imprima a mesma frase sem espaços em branco no início e no fim e em letras minúsculas."
      ],
      "metadata": {
        "id": "eRxc2OeX8Nh2"
      }
    },
    {
      "cell_type": "code",
      "source": [
        "frase = input('> Digite uma frase: ').strip().lower()\n",
        "print(frase)"
      ],
      "metadata": {
        "id": "DYm0_UwS8ih6",
        "outputId": "60d0ff25-a4a3-42e7-c90e-fa70b9e787e6",
        "colab": {
          "base_uri": "https://localhost:8080/"
        }
      },
      "execution_count": null,
      "outputs": [
        {
          "output_type": "stream",
          "name": "stdout",
          "text": [
            "> Digite uma frase:      Consolidando aprendizagens sobre análise de dados\n",
            "consolidando aprendizagens sobre análise de dados\n"
          ]
        }
      ]
    },
    {
      "cell_type": "markdown",
      "source": [
        "#### Questão 8\n",
        "\n",
        "Crie um código que solicite uma frase à pessoa usuária e imprima a mesma frase com todas as vogais “`e`” trocadas pela letra “`f`”."
      ],
      "metadata": {
        "id": "UKATLavs8NfI"
      }
    },
    {
      "cell_type": "code",
      "source": [
        "frase = input('> Digite uma frase: ').lower().replace('e', 'f')\n",
        "frase"
      ],
      "metadata": {
        "id": "k64C5G5S8iLO",
        "outputId": "93c5ecaa-58b8-4553-f50d-cf1175414c23",
        "colab": {
          "base_uri": "https://localhost:8080/",
          "height": 53
        }
      },
      "execution_count": null,
      "outputs": [
        {
          "name": "stdout",
          "output_type": "stream",
          "text": [
            "> Digite uma frase: Consolidando aprendizagens sobre análise de dados.\n"
          ]
        },
        {
          "output_type": "execute_result",
          "data": {
            "text/plain": [
              "'consolidando aprfndizagfns sobrf análisf df dados.'"
            ],
            "application/vnd.google.colaboratory.intrinsic+json": {
              "type": "string"
            }
          },
          "metadata": {},
          "execution_count": 36
        }
      ]
    },
    {
      "cell_type": "markdown",
      "source": [
        "#### Questão 9\n",
        "\n",
        "\n",
        "Crie um código que solicite uma frase à pessoa usuária e imprima a mesma frase com todas as vogais “`a`” trocadas pela caractere  “`@`”."
      ],
      "metadata": {
        "id": "n_1SPchw8NdG"
      }
    },
    {
      "cell_type": "code",
      "source": [
        "frase = input('> Digite uma frase: ').lower().replace('a', '@')\n",
        "frase"
      ],
      "metadata": {
        "id": "msaDNm_p8h0D",
        "outputId": "246be5c3-d0a1-4e27-f614-2a3bfeff99d6",
        "colab": {
          "base_uri": "https://localhost:8080/",
          "height": 53
        }
      },
      "execution_count": null,
      "outputs": [
        {
          "name": "stdout",
          "output_type": "stream",
          "text": [
            "> Digite uma frase: consolidando aprendizagens sobre análise de dados\n"
          ]
        },
        {
          "output_type": "execute_result",
          "data": {
            "text/plain": [
              "'consolid@ndo @prendiz@gens sobre @nálise de d@dos'"
            ],
            "application/vnd.google.colaboratory.intrinsic+json": {
              "type": "string"
            }
          },
          "metadata": {},
          "execution_count": 38
        }
      ]
    },
    {
      "cell_type": "markdown",
      "source": [
        "#### Questão 10\n",
        "\n",
        "\n",
        "Crie um código que solicite uma frase à pessoa usuária e imprima a mesma frase com todas as consoantes “`s`” trocadas pelo caractere  “`$`”."
      ],
      "metadata": {
        "id": "H3sTTjqI8Naa"
      }
    },
    {
      "cell_type": "code",
      "source": [
        "frase = input('> Digite uma frase: ').lower().replace('s', '$')\n",
        "frase"
      ],
      "metadata": {
        "id": "RPBIsWT68e-1",
        "outputId": "fe19546f-15c5-470f-81ab-9870d6056f56",
        "colab": {
          "base_uri": "https://localhost:8080/",
          "height": 53
        }
      },
      "execution_count": null,
      "outputs": [
        {
          "name": "stdout",
          "output_type": "stream",
          "text": [
            "> Digite uma frase: consolidando aprendizagens sobre análise de dados.\n"
          ]
        },
        {
          "output_type": "execute_result",
          "data": {
            "text/plain": [
              "'con$olidando aprendizagen$ $obre análi$e de dado$.'"
            ],
            "application/vnd.google.colaboratory.intrinsic+json": {
              "type": "string"
            }
          },
          "metadata": {},
          "execution_count": 39
        }
      ]
    },
    {
      "cell_type": "markdown",
      "source": [
        "## Aula 3 - Estruturas condicionais"
      ],
      "metadata": {
        "id": "XGePe4GD2I59"
      }
    },
    {
      "cell_type": "markdown",
      "source": [
        "### Aquecendo na programação"
      ],
      "metadata": {
        "id": "Pr9HTW0UHCdD"
      }
    },
    {
      "cell_type": "markdown",
      "source": [
        "#### Questão 1\n",
        "Escreva um programa que peça à pessoa usuária para fornecer dois números e exibir o número maior."
      ],
      "metadata": {
        "id": "xBZHqhVg80Fy"
      }
    },
    {
      "cell_type": "code",
      "source": [
        "numero_1 = int(input('> Digite um número: '))\n",
        "numero_2 = int(input('> Digite outro número: '))\n",
        "\n",
        "if numero_1 > numero_2:\n",
        "  print(f'{numero_1} é maior que {numero_2}.')\n",
        "else:\n",
        "  print(f'{numero_2} é maior que {numero_1}.')"
      ],
      "metadata": {
        "id": "GJlGnzjc-xyF",
        "outputId": "8f6e619e-f92d-4355-c654-d5d1594ae928",
        "colab": {
          "base_uri": "https://localhost:8080/"
        }
      },
      "execution_count": null,
      "outputs": [
        {
          "output_type": "stream",
          "name": "stdout",
          "text": [
            "> Digite um número: 165\n",
            "> Digite outro número: 23\n",
            "165 é maior que 23.\n"
          ]
        }
      ]
    },
    {
      "cell_type": "markdown",
      "source": [
        "#### Questão 2\n",
        "Escreva um programa que solicite o percentual de crescimento de produção de uma empresa e informe se houve um crescimento (porcentagem positiva) ou decrescimento (porcentagem negativa)."
      ],
      "metadata": {
        "id": "H4sgN7dyHNJF"
      }
    },
    {
      "cell_type": "code",
      "source": [
        "variacao = float(input('> Digite o percentual de crescimento da produção da sua empresa: '))\n",
        "\n",
        "if variacao > 0:\n",
        "  print('O crescimento foi positivo.')\n",
        "elif variacao == 0:\n",
        "  print('Não houve crescimento.')\n",
        "else:\n",
        "  print('O crescimento foi negativo.')"
      ],
      "metadata": {
        "id": "-2_Ry5XJ-yZW",
        "outputId": "f35372fc-dedc-414a-afcb-f48937b1a70c",
        "colab": {
          "base_uri": "https://localhost:8080/"
        }
      },
      "execution_count": null,
      "outputs": [
        {
          "output_type": "stream",
          "name": "stdout",
          "text": [
            "> Digite o percentual de crescimento da produção da sua empresa: 34\n",
            "O crescimento foi positivo.\n"
          ]
        }
      ]
    },
    {
      "cell_type": "markdown",
      "source": [
        "#### Questão 3\n",
        "Escreva um programa que determine se uma letra fornecida pela pessoa usuária é uma vogal ou consoante."
      ],
      "metadata": {
        "id": "a_mzNOBDHNny"
      }
    },
    {
      "cell_type": "code",
      "source": [
        "vogais = 'A, E, I, O, U'\n",
        "consoantes = 'B, C, D, F, G, H, J, K, L, M, N, P, Q, R, S, T, V, W, X, Y, Z'\n",
        "\n",
        "letra = input('> Digite uma letra: ').upper()\n",
        "\n",
        "if letra in vogais:\n",
        "  print(f'A letra \"{letra}\" é uma vogal.')\n",
        "elif letra in consoantes:\n",
        "  print(f'A letra \"{letra}\" é uma consoante.')\n",
        "else:\n",
        "  print(f'O caractere enviado não é uma letra.')"
      ],
      "metadata": {
        "id": "NbgndVyg-zFJ",
        "outputId": "3bb058b0-cbe6-4eeb-cf11-11d555cb7f1f",
        "colab": {
          "base_uri": "https://localhost:8080/"
        }
      },
      "execution_count": null,
      "outputs": [
        {
          "output_type": "stream",
          "name": "stdout",
          "text": [
            "> Digite uma letra: A\n",
            "A letra \"A\" é uma vogal.\n"
          ]
        }
      ]
    },
    {
      "cell_type": "markdown",
      "source": [
        "#### Questão 4\n",
        "Escreva um programa que leia valores médios de preços de um modelo de carro por 3 anos consecutivos e exiba o valor mais alto e mais baixo entre esses três anos."
      ],
      "metadata": {
        "id": "mofMRjSZHP99"
      }
    },
    {
      "cell_type": "code",
      "source": [
        "valor_medio_carro_2021 = float(input('> Digite o valor médio de um Fusca em 2021: '))\n",
        "valor_medio_carro_2022 = float(input('> Digite o valor médio de um Fusca em 2022: '))\n",
        "valor_medio_carro_2023 = float(input('> Digite o valor médio de um Fusca em 2023: '))\n",
        "\n",
        "maior = valor_medio_carro_2021\n",
        "\n",
        "if valor_medio_carro_2022 > maior:\n",
        "  maior = valor_medio_carro_2022\n",
        "\n",
        "if valor_medio_carro_2023 > maior:\n",
        "  maior = valor_medio_carro_2023\n",
        "\n",
        "menor = valor_medio_carro_2021\n",
        "\n",
        "if valor_medio_carro_2022 < menor:\n",
        "  menor = valor_medio_carro_2022\n",
        "\n",
        "if valor_medio_carro_2023 < menor:\n",
        "  menor = valor_medio_carro_2023\n",
        "\n",
        "print(f'O maior preço foi R$ {maior:.2f}, enquanto o menor foi R$ {menor:.2f}.')"
      ],
      "metadata": {
        "id": "TX--d3k9-02c",
        "outputId": "a122ce81-828c-4515-e243-847a0bc185b7",
        "colab": {
          "base_uri": "https://localhost:8080/"
        }
      },
      "execution_count": null,
      "outputs": [
        {
          "output_type": "stream",
          "name": "stdout",
          "text": [
            "> Digite o valor médio de um Fusca em 2021: 21000\n",
            "> Digite o valor médio de um Fusca em 2022: 23000\n",
            "> Digite o valor médio de um Fusca em 2023: 26000\n",
            "O maior preço foi R$ 26000.00, enquanto o menor foi R$ 21000.00.\n"
          ]
        }
      ]
    },
    {
      "cell_type": "markdown",
      "source": [
        "#### Questão 5\n",
        "Escreva um programa que pergunte sobre o preço de três produtos e indique qual é o produto mais barato para comprar."
      ],
      "metadata": {
        "id": "jY5tIwd-HQzc"
      }
    },
    {
      "cell_type": "code",
      "source": [
        "produto_1 = float(input('> Preço do produto 1: '))\n",
        "produto_2 = float(input('> Preço do produto 2: '))\n",
        "produto_3 = float(input('> Preço do produto 3: '))\n",
        "\n",
        "menor_preco = produto_1\n",
        "produto_menor_preco = 'produto 1'\n",
        "\n",
        "if produto_2 < menor_preco:\n",
        "  menor_preco = produto_2\n",
        "  produto_menor_preco = 'produto 2'\n",
        "\n",
        "if produto_3 < menor_preco:\n",
        "  menor_preco = produto_3\n",
        "  produto_menor_preco = 'produto 3'\n",
        "\n",
        "print(f'O {produto_menor_preco} é o mais barato para comprar, com o preço de R$ {menor_preco:.2f}.')"
      ],
      "metadata": {
        "id": "sYqNh9df-0gk",
        "outputId": "b065933d-0b54-4b31-83a4-70f5771e198b",
        "colab": {
          "base_uri": "https://localhost:8080/"
        }
      },
      "execution_count": null,
      "outputs": [
        {
          "output_type": "stream",
          "name": "stdout",
          "text": [
            "> Preço do produto 1: 12.90\n",
            "> Preço do produto 2: 5.50\n",
            "> Preço do produto 3: 23.12\n",
            "O produto 2 é o mais barato para comprar, com o preço de R$ 5.50.\n"
          ]
        }
      ]
    },
    {
      "cell_type": "markdown",
      "source": [
        "#### Questão 6\n",
        "Escreva um programa que leia três números e os exiba em ordem decrescente."
      ],
      "metadata": {
        "id": "1r6aVxtTHR4E"
      }
    },
    {
      "cell_type": "code",
      "source": [
        "numero_1 = int(input('> Digite um número: '))\n",
        "numero_2 = int(input('> Digite outro número: '))\n",
        "numero_3 = int(input('> Digite mais um número: '))\n",
        "\n",
        "if (numero_1 >= numero_2) and (numero_1 >= numero_3):\n",
        "  print(numero_1)\n",
        "  if (numero_2 >= numero_3):\n",
        "    print(numero_2)\n",
        "    print(numero_3)\n",
        "  else:\n",
        "    print(numero_3)\n",
        "    print(numero_2)\n",
        "elif (numero_2 >= numero_1) and (numero_2 >= numero_3):\n",
        "  print(numero_2)\n",
        "  if (numero_1 >= numero_3):\n",
        "    print(numero_1)\n",
        "    print(numero_3)\n",
        "  else:\n",
        "    print(numero_3)\n",
        "    print(numero_1)\n",
        "else:\n",
        "  print(numero_3)\n",
        "  if (numero_1 >= numero_2):\n",
        "    print(numero_1)\n",
        "    print(numero_2)\n",
        "  else:\n",
        "    print(numero_2)\n",
        "    print(numero_1)"
      ],
      "metadata": {
        "id": "ydOCYUMO-0Hk",
        "outputId": "6ce4b15c-c405-43e1-bab2-fe6ee5b5a118",
        "colab": {
          "base_uri": "https://localhost:8080/"
        }
      },
      "execution_count": null,
      "outputs": [
        {
          "output_type": "stream",
          "name": "stdout",
          "text": [
            "> Digite um número: 5\n",
            "> Digite outro número: 2\n",
            "> Digite mais um número: 10\n",
            "10\n",
            "5\n",
            "2\n"
          ]
        }
      ]
    },
    {
      "cell_type": "markdown",
      "source": [
        "#### Questão 7\n",
        "Escreva um programa que pergunte em qual turno a pessoa usuária estuda (\"manhã\", \"tarde\" ou \"noite\") e exiba a mensagem \"Bom Dia!\", \"Boa Tarde!\", \"Boa Noite!\", ou \"Valor Inválido!\", conforme o caso."
      ],
      "metadata": {
        "id": "inW3F-hAHS_X"
      }
    },
    {
      "cell_type": "code",
      "source": [
        "turno = int(input('''\n",
        "Em qual turno você está?\n",
        "[0]: manhã\n",
        "[1]: tarde\n",
        "[2]: noite\n",
        "\n",
        "> '''))\n",
        "\n",
        "if turno == 0:\n",
        "  print('Bom dia!')\n",
        "elif turno == 1:\n",
        "  print('Boa tarde!')\n",
        "elif turno == 2:\n",
        "  print('Boa noite!')\n",
        "else:\n",
        "  print('Valor inválido. :(')"
      ],
      "metadata": {
        "id": "-_q-Pcr_-zth",
        "outputId": "11c1cfe9-9238-4836-c4ae-6624bf9d4568",
        "colab": {
          "base_uri": "https://localhost:8080/"
        }
      },
      "execution_count": null,
      "outputs": [
        {
          "output_type": "stream",
          "name": "stdout",
          "text": [
            "\n",
            "Em qual turno você está?\n",
            "[0]: manhã\n",
            "[1]: tarde\n",
            "[2]: noite\n",
            "\n",
            "> 1\n",
            "Boa tarde!\n"
          ]
        }
      ]
    },
    {
      "cell_type": "markdown",
      "source": [
        "#### Questão 8\n",
        "Escreva um programa que peça um número inteiro à pessoa usuária e determine se ele é par ou ímpar. Dica: Você pode utilizar o operador módulo `%`."
      ],
      "metadata": {
        "id": "NCCPF3QqHTw-"
      }
    },
    {
      "cell_type": "code",
      "source": [
        "numero = int(input('> Digite um número: '))\n",
        "\n",
        "if numero % 2 == 0:\n",
        "  print(f'O número {numero} é par.')\n",
        "else:\n",
        "  print(f'O número {numero} é ímpar.')"
      ],
      "metadata": {
        "id": "OmZJt1nQ-3e6",
        "outputId": "a3fcbcb5-7e2e-4be1-99f2-f91cfea76ef3",
        "colab": {
          "base_uri": "https://localhost:8080/"
        }
      },
      "execution_count": null,
      "outputs": [
        {
          "output_type": "stream",
          "name": "stdout",
          "text": [
            "> Digite um número: 5\n",
            "O número 5 é ímpar.\n"
          ]
        }
      ]
    },
    {
      "cell_type": "markdown",
      "source": [
        "#### Questão 9\n",
        "Escreva um programa que peça um número à pessoa usuária e informe se ele é inteiro ou decimal."
      ],
      "metadata": {
        "id": "h93Ck1tQHUwE"
      }
    },
    {
      "cell_type": "code",
      "source": [
        "numero = float(input('> Digite um número: '))\n",
        "\n",
        "if numero % 1 == 0:\n",
        "  print(f'O número {numero} é inteiro.')\n",
        "else:\n",
        "  print(f'O número {numero} é decimal.')"
      ],
      "metadata": {
        "id": "sLMlZcx8-20N",
        "outputId": "7551fc0e-1223-4144-ab27-ef4b5fa4aaa4",
        "colab": {
          "base_uri": "https://localhost:8080/"
        }
      },
      "execution_count": null,
      "outputs": [
        {
          "output_type": "stream",
          "name": "stdout",
          "text": [
            "> Digite um número: 3.14\n",
            "O número 3.14 é decimal.\n"
          ]
        }
      ]
    },
    {
      "cell_type": "markdown",
      "source": [
        "### Momento dos projetos"
      ],
      "metadata": {
        "id": "bKdXSK1SH_pF"
      }
    },
    {
      "cell_type": "markdown",
      "source": [
        "#### Questão 10\n",
        "Um programa deve ser escrito para ler dois números e, em seguida, perguntar à pessoa usuária qual operação ele deseja realizar. O resultado da operação deve incluir informações sobre o número - se é par ou ímpar, positivo ou negativo e inteiro ou decimal."
      ],
      "metadata": {
        "id": "WBlEyyzsHV86"
      }
    },
    {
      "cell_type": "code",
      "source": [
        "n1 = int(input('> Digite um número: '))\n",
        "n2 = int(input('> Digite outro número: '))\n",
        "\n",
        "operacao = int(input(f'''\n",
        "Qual operação você deseja fazer entre os números {n1} e {n2}?\n",
        "[0]: soma\n",
        "[1]: subtração\n",
        "[2]: multiplicação\n",
        "[3]: divisão\n",
        "\n",
        "> '''))\n",
        "\n",
        "if operacao == 0:\n",
        "  resultado = n1 + n2\n",
        "elif operacao == 1:\n",
        "  resultado = n1 - n2\n",
        "elif operacao == 2:\n",
        "  resultado = n1 * n2\n",
        "elif operacao == 3:\n",
        "  if n2 != 0:\n",
        "    resultado = n1 / n2\n",
        "else:\n",
        "  resultado = None\n",
        "\n",
        "if resultado == None:\n",
        "  print('Operação inválida.')\n",
        "else:\n",
        "  print(f'-> {resultado}')\n",
        "  if resultado % 1 == 0:\n",
        "    print('O resultado é inteiro.')\n",
        "  else:\n",
        "    print('O resultado é decimal.')\n",
        "\n",
        "  if resultado % 2 == 0:\n",
        "    print('O resultado é par.')\n",
        "  else:\n",
        "    print('O resultado é ímpar.')\n",
        "\n",
        "  if resultado < 0:\n",
        "    print('O resultado é negativo')\n",
        "  elif resultado > 0:\n",
        "    print('O resultado é positivo.')\n",
        "  else:\n",
        "    print('O resultado é neutro.')"
      ],
      "metadata": {
        "id": "3jmahZ0f-2gq",
        "outputId": "3c52cedc-5fc7-4ffa-ba3f-2ac19207778f",
        "colab": {
          "base_uri": "https://localhost:8080/"
        }
      },
      "execution_count": null,
      "outputs": [
        {
          "output_type": "stream",
          "name": "stdout",
          "text": [
            "> Digite um número: 8\n",
            "> Digite outro número: 2\n",
            "\n",
            "Qual operação você deseja fazer entre os números 8 e 2?\n",
            "[0]: soma\n",
            "[1]: subtração\n",
            "[2]: multiplicação\n",
            "[3]: divisão\n",
            "\n",
            "> 2\n",
            "-> 16\n",
            "O resultado é inteiro.\n",
            "O resultado é par.\n",
            "O resultado é positivo.\n"
          ]
        }
      ]
    },
    {
      "cell_type": "markdown",
      "source": [
        "#### Questão 11\n",
        "Escreva um programa que peça à pessoa usuária três números que representam os lados de um triângulo. O programa deve informar se os valores podem ser utilizados para formar um triângulo e, caso afirmativo, se ele é equilátero, isósceles ou escaleno. Tenha em mente algumas dicas:\n",
        "- Três lados formam um triângulo quando a soma de quaisquer dois lados for maior que o terceiro;\n",
        "- Triângulo Equilátero: três lados iguais;\n",
        "- Triângulo Isósceles: quaisquer dois lados iguais;\n",
        "- Triângulo Escaleno: três lados diferentes;\n"
      ],
      "metadata": {
        "id": "VdnlULxHHW19"
      }
    },
    {
      "cell_type": "code",
      "source": [
        "print('Lados de um triângulo')\n",
        "n1 = float(input('> Digite o comprimento do primeiro lado: '))\n",
        "n2 = float(input('> Digite o comprimento do segundo lado: '))\n",
        "n3 = float(input('> Digite o comprimento do terceiro lado: '))\n",
        "\n",
        "if ((n1 + n2) > n3) and ((n1 + n3) > n2) and ((n2 + n3) > n1):\n",
        "\n",
        "  if (n1 == n2) and (n1 == n3) and (n2 == n3):\n",
        "    print('O triângulo é equilátero.')\n",
        "  elif (n1 == n2) or (n1 == n3) or (n2 == n3):\n",
        "    print('O triângulo é isósceles.')\n",
        "  else:\n",
        "    print('O triângulo é escaleno.')\n",
        "else:\n",
        "  print('Não é possível formar um triângulo com estes comprimentos.')"
      ],
      "metadata": {
        "id": "0z73sqUO-2Pw",
        "outputId": "0045dfb5-1bf3-4b24-9e64-4ba1838754b0",
        "colab": {
          "base_uri": "https://localhost:8080/"
        }
      },
      "execution_count": null,
      "outputs": [
        {
          "output_type": "stream",
          "name": "stdout",
          "text": [
            "Lados de um triângulo\n",
            "> Digite o comprimento do primeiro lado: 4\n",
            "> Digite o comprimento do segundo lado: 4\n",
            "> Digite o comprimento do terceiro lado: 6\n",
            "O triângulo é isósceles.\n"
          ]
        }
      ]
    },
    {
      "cell_type": "markdown",
      "source": [
        "#### Questão 12\n",
        "Um estabelecimento está vendendo combustíveis com descontos variados. Para o etanol, se a quantidade comprada for até 15 litros, o desconto será de 2% por litro. Caso contrário, será de 4% por litro. Para o diesel, se a quantidade comprada for até 15 litros, o desconto será de 3% por litro. Caso contrário, será de 5% por litro. O preço do litro de diesel é R\\$ 2,00 e o preço do litro de etanol é R\\$ 1,70. Escreva um programa que leia a quantidade de litros vendidos e o tipo de combustível (E para etanol e D para diesel) e calcule o valor a ser pago pelo cliente. Tenha em mente algumas dicas:\n",
        "\n",
        "- O do valor do desconto será a multiplicação entre preço do litro, quantidade de litros e o valor do desconto.\n",
        "- O valor a ser pago por um cliente será o resultado da multiplicação do preço do litro pela quantidade de litros menos o valor de desconto resultante do cálculo.\n"
      ],
      "metadata": {
        "id": "_PpEpOugHXwZ"
      }
    },
    {
      "cell_type": "code",
      "source": [
        "qtd_litros = float(input('> Quantos litros deseja adicionar? '))\n",
        "combustivel = input('''\n",
        "  Escolha um combustível:\n",
        "  [E] Etanol\n",
        "  [D] Diesel\n",
        "  > ''').upper()\n",
        "\n",
        "litro_diesel = 2.00\n",
        "litro_etanol = 1.70\n",
        "\n",
        "if combustivel == 'E':\n",
        "\n",
        "  if qtd_litros <= 15:\n",
        "    total = (litro_etanol * qtd_litros) * 0.98\n",
        "  else:\n",
        "    total = (litro_etanol * qtd_litros) * 0.96\n",
        "elif combustivel == 'D':\n",
        "  if qtd_litros <= 15:\n",
        "    total = (litro_diesel * qtd_litros) * 0.97\n",
        "  else:\n",
        "    total = (litro_diesel * qtd_litros) * 0.95\n",
        "\n",
        "if combustivel not in ('E', 'D'):\n",
        "  print('Valor não permitido.')\n",
        "else:\n",
        "  print(f'O valor a ser pago é: R$ {total:.2f}')"
      ],
      "metadata": {
        "id": "9izoF-0O-1yD",
        "colab": {
          "base_uri": "https://localhost:8080/"
        },
        "outputId": "dd0bad5f-ac78-42d8-c381-cdc1c92b02e1"
      },
      "execution_count": null,
      "outputs": [
        {
          "output_type": "stream",
          "name": "stdout",
          "text": [
            "> Quantos litros deseja adicionar? 100\n",
            "\n",
            "  Escolha um combustível:\n",
            "  [E] Etanol\n",
            "  [D] Diesel \n",
            "  > E\n",
            "O valor a ser pago é: R$ 163.20\n"
          ]
        }
      ]
    },
    {
      "cell_type": "markdown",
      "source": [
        "#### Questão 13\n",
        "Em uma empresa de venda de imóveis você precisa criar um código que analise os dados de vendas anuais para ajudar a diretoria na tomada de decisão. O código precisa coletar os dados de quantidade de venda durante os anos de 2022 e 2023 e fazer um cálculo de variação percentual. A partir do valor da variação, deve ser enviada às seguintes sugestões:\n",
        "- Para variação acima de 20%: bonificação para o time de vendas.\n",
        "- Para variação entre 2% e 20%: pequena bonificação para time de vendas.\n",
        "- Para variação entre 2% e -10%: planejamento de políticas de incentivo às vendas.\n",
        "- Para bonificações abaixo de -10%: corte de gastos.\n"
      ],
      "metadata": {
        "id": "s_XS_D1WHY2R"
      }
    },
    {
      "cell_type": "code",
      "source": [
        "vendas_2022 = int(input('> Quantidade de vendas em 2022: '))\n",
        "vendas_2023 = int(input('> Quantidade de vendas em 2023: '))\n",
        "\n",
        "variacao_percentual = 100 * ((vendas_2023 - vendas_2022) / vendas_2022)\n",
        "\n",
        "if variacao_percentual > 20:\n",
        "  sugestao = 'Bonificação para o time de vendas'\n",
        "elif 2 <= variacao_percentual <= 20:\n",
        "  sugestao = 'Pequena bonificação para time de vendas'\n",
        "elif -10 <= variacao_percentual < 2:\n",
        "  sugestao = 'Planejamento de políticas de incentivo às vendas'\n",
        "elif variacao_percentual < -10:\n",
        "  sugestao = 'Corte de gastos'\n",
        "\n",
        "print(f'''\n",
        "Vendas em 2022: {vendas_2022}\n",
        "Vendas em 2023: {vendas_2023}\n",
        "Variação das vendas: {variacao_percentual} %\n",
        "----\n",
        "Status: {sugestao}\n",
        "''')"
      ],
      "metadata": {
        "id": "avQrYlUg-w8f",
        "colab": {
          "base_uri": "https://localhost:8080/"
        },
        "outputId": "03ec1190-00d9-41fb-c993-73064e2f1ff5"
      },
      "execution_count": null,
      "outputs": [
        {
          "output_type": "stream",
          "name": "stdout",
          "text": [
            "> Quantidade de vendas em 2022: 1290\n",
            "> Quantidade de vendas em 2023: 1459\n",
            "\n",
            "Vendas em 2022: 1290\n",
            "Vendas em 2023: 1459\n",
            "Variação das vendas: 13.10077519379845 %\n",
            "----\n",
            "Status: Pequena bonificação para time de vendas\n",
            "\n"
          ]
        }
      ]
    },
    {
      "cell_type": "markdown",
      "source": [
        "## Aula 4 - Estruturas de repetição"
      ],
      "metadata": {
        "id": "AuaWh4-d2Itt"
      }
    },
    {
      "cell_type": "markdown",
      "source": [
        "### Aquecendo na programação"
      ],
      "metadata": {
        "id": "6MSqU0sIJRdD"
      }
    },
    {
      "cell_type": "markdown",
      "source": [
        "#### Questão 1\n",
        "Escreva um programa que peça dois números inteiros e imprima todos os números inteiros entre eles."
      ],
      "metadata": {
        "id": "9eGGyCnAJRdQ"
      }
    },
    {
      "cell_type": "code",
      "source": [
        "num_1 = int(input('> Digite um número inteiro: '))\n",
        "num_2 = int(input('> Digite outro número inteiro: '))\n",
        "\n",
        "for num in range(num_1, num_2 + 1):\n",
        "  print(num)"
      ],
      "metadata": {
        "id": "ID1oc1hxJRdQ",
        "colab": {
          "base_uri": "https://localhost:8080/"
        },
        "outputId": "feb01345-f8fd-4188-d7ea-73e9517fb516"
      },
      "execution_count": null,
      "outputs": [
        {
          "output_type": "stream",
          "name": "stdout",
          "text": [
            "> Digite um número inteiro: 1\n",
            "> Digite outro número inteiro: 10\n",
            "1\n",
            "2\n",
            "3\n",
            "4\n",
            "5\n",
            "6\n",
            "7\n",
            "8\n",
            "9\n",
            "10\n"
          ]
        }
      ]
    },
    {
      "cell_type": "markdown",
      "source": [
        "#### Questão 2\n",
        "Escreva um programa para calcular quantos dias levará para a colônia de uma bactéria A ultrapassar ou igualar a colônia de uma bactéria B, com base nas taxas de crescimento de 3% e 1,5% respectivamente. Considere que a colônia A inicia com 4 elementos e a colônia B com 10 elementos."
      ],
      "metadata": {
        "id": "mGonEHYCJRdR"
      }
    },
    {
      "cell_type": "code",
      "source": [
        "colonia_A = 4\n",
        "colonia_B = 10\n",
        "tempo = 0\n",
        "\n",
        "while colonia_A <= colonia_B:\n",
        "  tempo += 1\n",
        "  colonia_A *= 1.03\n",
        "  colonia_B *= 1.015\n",
        "\n",
        "print(f'O tempo para a colônia de bactérias A ultrapassar ou igual a colônia de bactérias B é igual a {tempo} dias.')"
      ],
      "metadata": {
        "id": "wM6FJuoqJRdR",
        "colab": {
          "base_uri": "https://localhost:8080/"
        },
        "outputId": "bff55168-1690-4137-f462-4562f921a24b"
      },
      "execution_count": null,
      "outputs": [
        {
          "output_type": "stream",
          "name": "stdout",
          "text": [
            "O tempo para a colônia de bactérias A ultrapassar ou igual a colônia de bactérias B é igual a 63 dias.\n"
          ]
        }
      ]
    },
    {
      "cell_type": "markdown",
      "source": [
        "#### Questão 3\n",
        "Para tratar uma quantidade de 15 dados de avaliações de pessoas usuárias de um serviço da empresa, precisamos verificar se as notas são válidas. Então, escreva um programa que vai receber a nota de 0 a 5 de todos os dados e verificar se é um valor válido. Caso seja inserido uma nota acima de 5 ou abaixo de 0, repita até que a pessoa usuária insira um valor válido."
      ],
      "metadata": {
        "id": "UiOZRlqoJRdR"
      }
    },
    {
      "cell_type": "code",
      "source": [
        "qtd_dados = 0\n",
        "\n",
        "while qtd_dados < 15:\n",
        "  nota = int(input('> Digite uma nota de 0 a 5: '))\n",
        "\n",
        "  if 0 <= nota <= 5:\n",
        "    qtd_dados += 1\n",
        "  else:\n",
        "    print('Valor inválido. Tente novamente.\\n')"
      ],
      "metadata": {
        "id": "3TUAhCxcJRdR",
        "colab": {
          "base_uri": "https://localhost:8080/"
        },
        "outputId": "eec0286b-8db2-4e53-ba79-2377c5e92407"
      },
      "execution_count": null,
      "outputs": [
        {
          "name": "stdout",
          "output_type": "stream",
          "text": [
            "> Digite uma nota de 0 a 5: 3\n",
            "> Digite uma nota de 0 a 5: 2\n",
            "> Digite uma nota de 0 a 5: 9\n",
            "Valor inválido. Tente novamente.\n",
            "\n",
            "> Digite uma nota de 0 a 5: 2\n",
            "> Digite uma nota de 0 a 5: 3\n",
            "> Digite uma nota de 0 a 5: 4\n",
            "> Digite uma nota de 0 a 5: 5\n",
            "> Digite uma nota de 0 a 5: 1\n",
            "> Digite uma nota de 0 a 5: 2\n",
            "> Digite uma nota de 0 a 5: 3\n",
            "> Digite uma nota de 0 a 5: 4\n",
            "> Digite uma nota de 0 a 5: 5\n",
            "> Digite uma nota de 0 a 5: 1\n",
            "> Digite uma nota de 0 a 5: 2\n",
            "> Digite uma nota de 0 a 5: 3\n",
            "> Digite uma nota de 0 a 5: 4\n"
          ]
        }
      ]
    },
    {
      "cell_type": "markdown",
      "source": [
        "#### Questão 4\n",
        "Desenvolva um programa que leia um conjunto indeterminado de temperaturas em Celsius e faça uma análise. Portanto, escreva um programa que leia temperaturas e informe a média delas. A leitura deve ser encerrada ao ser enviado o valor -273°C."
      ],
      "metadata": {
        "id": "ABv3KObGJRdR"
      }
    },
    {
      "cell_type": "code",
      "source": [
        "temperatura = 0\n",
        "soma_temperaturas = 0\n",
        "qtd_temperaturas = 0\n",
        "\n",
        "while temperatura != -273:\n",
        "  temperatura = float(input('> Digite uma temperatura em Celsius: '))\n",
        "  soma_temperaturas += temperatura\n",
        "  qtd_temperaturas += 1\n",
        "\n",
        "media_temperaturas = soma_temperaturas / qtd_temperaturas\n",
        "\n",
        "print(f'A média das temperaturas é : {media_temperaturas}°C.')"
      ],
      "metadata": {
        "id": "85tBBj5KJRdS",
        "colab": {
          "base_uri": "https://localhost:8080/"
        },
        "outputId": "081d294f-e26a-4e07-ee3c-edc9edad1806"
      },
      "execution_count": null,
      "outputs": [
        {
          "output_type": "stream",
          "name": "stdout",
          "text": [
            "> Digite uma temperatura em Celsius: 25\n",
            "> Digite uma temperatura em Celsius: 30\n",
            "> Digite uma temperatura em Celsius: 100\n",
            "> Digite uma temperatura em Celsius: -273\n",
            "A média das temperaturas é : -29.5°C.\n"
          ]
        }
      ]
    },
    {
      "cell_type": "markdown",
      "source": [
        "#### Questão 5\n",
        "Escreva um programa que calcule o fatorial de um número inteiro fornecido pela pessoa usuária. O fatorial de um número inteiro é a multiplicação desse número por todos os seus antecessores até o número 1. Por exemplo, o fatorial de 5 é 5 x 4 x 3 x 2 x 1 = 120."
      ],
      "metadata": {
        "id": "IjkbAfGcJRdS"
      }
    },
    {
      "cell_type": "code",
      "source": [
        "numero = int(input('> Digite um número: '))\n",
        "fatorial = 1\n",
        "\n",
        "print(f'{numero}! = ', end='')\n",
        "while numero >= 1:\n",
        "  print(f'{numero} x ', end='')\n",
        "\n",
        "  fatorial *= numero\n",
        "  numero -= 1\n",
        "\n",
        "print(f'= {fatorial}')"
      ],
      "metadata": {
        "id": "7RTH8o0HJRdS",
        "colab": {
          "base_uri": "https://localhost:8080/"
        },
        "outputId": "fd8a578b-4307-4761-c04c-1c748779e3ed"
      },
      "execution_count": null,
      "outputs": [
        {
          "output_type": "stream",
          "name": "stdout",
          "text": [
            "> Digite um número: 5\n",
            "5! = 5 x 4 x 3 x 2 x 1 x = 120\n"
          ]
        }
      ]
    },
    {
      "cell_type": "markdown",
      "source": [
        "### Momento dos projetos"
      ],
      "metadata": {
        "id": "oGNKuQjsJRdT"
      }
    },
    {
      "cell_type": "markdown",
      "source": [
        "#### Questão 6\n",
        "Escreva um programa que gere a tabuada de um número inteiro de 1 a 10, de acordo com a escolha da pessoa usuária. Como exemplo, para o número 2, a tabuada deve ser mostrada no seguinte formato:\n",
        "```\n",
        "Tabuada do 2:\n",
        "2 x 1 = 2\n",
        "2 x 2 = 4\n",
        "[...]\n",
        "2 x 10 = 20\n",
        "```"
      ],
      "metadata": {
        "id": "ODxaTUYmJRdS"
      }
    },
    {
      "cell_type": "code",
      "source": [
        "tabuada = int(input('> Digite um número inteiro de 1 a 10: '))\n",
        "\n",
        "for numero in range(1, 11):\n",
        "  print(f'{tabuada} x {numero} = {tabuada * numero}')"
      ],
      "metadata": {
        "id": "lkTlbxPIJRdS",
        "colab": {
          "base_uri": "https://localhost:8080/"
        },
        "outputId": "e42adf08-cfc6-4c74-f4e8-5ae994d3d420"
      },
      "execution_count": null,
      "outputs": [
        {
          "output_type": "stream",
          "name": "stdout",
          "text": [
            "> Digite um número inteiro de 1 a 10: 7\n",
            "7 x 1 = 7\n",
            "7 x 2 = 14\n",
            "7 x 3 = 21\n",
            "7 x 4 = 28\n",
            "7 x 5 = 35\n",
            "7 x 6 = 42\n",
            "7 x 7 = 49\n",
            "7 x 8 = 56\n",
            "7 x 9 = 63\n",
            "7 x 10 = 70\n"
          ]
        }
      ]
    },
    {
      "cell_type": "markdown",
      "source": [
        "#### Questão 7\n",
        "Os números primos possuem várias aplicações dentro da Ciência de Dados, por exemplo, na criptografia e segurança. Um número primo é aquele que é divisível apenas por um e por ele mesmo. Faça um programa que peça um número inteiro e determine se ele é ou não um número primo."
      ],
      "metadata": {
        "id": "LeIbnt8VJRdS"
      }
    },
    {
      "cell_type": "code",
      "source": [
        "numero = int(input('> Digite um número: '))\n",
        "qtd_divisores = 0\n",
        "\n",
        "for i in range(1, numero + 1):\n",
        "  if numero % i == 0:\n",
        "    qtd_divisores += 1\n",
        "\n",
        "if qtd_divisores > 2 or numero <= 1:\n",
        "  print(f'{numero} não é primo.')\n",
        "else:\n",
        "  print(f'{numero} é primo.')"
      ],
      "metadata": {
        "id": "2rcNU7twJRdS",
        "colab": {
          "base_uri": "https://localhost:8080/"
        },
        "outputId": "e1637694-2ba0-4015-a588-3bf30edda8ea"
      },
      "execution_count": null,
      "outputs": [
        {
          "output_type": "stream",
          "name": "stdout",
          "text": [
            "> Digite um número: 31\n",
            "31 é primo.\n"
          ]
        }
      ]
    },
    {
      "cell_type": "markdown",
      "source": [
        "#### Questão 8\n",
        "Vamos entender a distribuição de idades de pensionistas de uma empresa de previdência. Escreva um programa que leia as idades de uma quantidade não informada de clientes e mostre a distribuição em intervalos de [0-25], [26-50], [51-75] e [76-100]. Encerre a entrada de dados com um número negativo."
      ],
      "metadata": {
        "id": "QTwb6QaCJRdT"
      }
    },
    {
      "cell_type": "code",
      "source": [
        "idade = 0\n",
        "qtd_0_25 = 0\n",
        "qtd_26_50 = 0\n",
        "qtd_51_75 = 0\n",
        "qtd_76_100 = 0\n",
        "\n",
        "while idade >= 0:\n",
        "  idade = int(input('> Digite uma idade (números negativos param o programa): '))\n",
        "\n",
        "  if 0 <= idade <= 25:\n",
        "    qtd_0_25 += 1\n",
        "  elif 26 <= idade <= 50:\n",
        "    qtd_26_50 += 1\n",
        "  elif 51 <= idade <= 75:\n",
        "    qtd_51_75 += 1\n",
        "  elif 76 <= idade <= 100:\n",
        "    qtd_76_100 += 1\n",
        "\n",
        "print(f'''\n",
        "[0-25] -> {qtd_0_25}\n",
        "[26-50] -> {qtd_26_50}\n",
        "[51-75] -> {qtd_51_75}\n",
        "[76-100] -> {qtd_76_100}\n",
        "''')"
      ],
      "metadata": {
        "id": "4IAhaDmYJRdT",
        "colab": {
          "base_uri": "https://localhost:8080/"
        },
        "outputId": "e1a77de7-3622-46cc-b8a8-a32670b26b1e"
      },
      "execution_count": null,
      "outputs": [
        {
          "output_type": "stream",
          "name": "stdout",
          "text": [
            "> Digite uma idade (números negativos param o programa): 10\n",
            "> Digite uma idade (números negativos param o programa): 89\n",
            "> Digite uma idade (números negativos param o programa): 34\n",
            "> Digite uma idade (números negativos param o programa): 56\n",
            "> Digite uma idade (números negativos param o programa): 23\n",
            "> Digite uma idade (números negativos param o programa): 11\n",
            "> Digite uma idade (números negativos param o programa): 87\n",
            "> Digite uma idade (números negativos param o programa): 25\n",
            "> Digite uma idade (números negativos param o programa): 18\n",
            "> Digite uma idade (números negativos param o programa): 9\n",
            "> Digite uma idade (números negativos param o programa): -1\n",
            "\n",
            "[0-25] -> 6\n",
            "[26-50] -> 1\n",
            "[51-75] -> 1\n",
            "[76-100] -> 2\n",
            "\n"
          ]
        }
      ]
    },
    {
      "cell_type": "markdown",
      "source": [
        "#### Questão 9\n",
        "Em uma eleição para gerência em uma empresa com 20 funcionários, existem quatro candidatos. Escreva um programa que calcule o vencedor da eleição. A votação ocorreu da seguinte maneira:\n",
        "- Cada funcionário votou em um dos quatro candidatos (representados pelos números 1, 2, 3 e 4).\n",
        "- Também foram contabilizados os votos nulos (representado pelo número 5) e os votos em branco (representado pelo número 6).\n",
        "\n",
        "Ao final da votação, o programa deve exibir o total de votos para cada candidato, o número de votos nulos e o número de votos em branco. Além disso, deve calcular e exibir a porcentagem de votos nulos em relação ao total de votos e a porcentagem de votos em branco em relação ao total de votos."
      ],
      "metadata": {
        "id": "soJCQVwRJRdT"
      }
    },
    {
      "cell_type": "code",
      "source": [
        "i = 0\n",
        "total_votos = 20\n",
        "\n",
        "votos_1 = 0\n",
        "votos_2 = 0\n",
        "votos_3 = 0\n",
        "votos_4 = 0\n",
        "votos_5 = 0\n",
        "votos_6 = 0\n",
        "\n",
        "while i < total_votos:\n",
        "\n",
        "  voto = int(input('''\n",
        "  Selecione um dos números abaixo para votar:\n",
        "  [1] Ana\n",
        "  [2] Bernardo\n",
        "  [3] Carlos\n",
        "  [4] Daniela\n",
        "  [5] Nulo\n",
        "  [6] Branco\n",
        "  > '''))\n",
        "\n",
        "  if voto < 1 or voto > 6:\n",
        "    print('Valor inválido. Tente novamente.\\n')\n",
        "  else:\n",
        "    i += 1\n",
        "\n",
        "    if voto == 1:\n",
        "      votos_1 += 1\n",
        "    elif voto == 2:\n",
        "      votos_2 += 1\n",
        "    elif voto == 3:\n",
        "      votos_3 += 1\n",
        "    elif voto == 4:\n",
        "      votos_4 += 1\n",
        "    elif voto == 5:\n",
        "      votos_5 += 1\n",
        "    elif voto == 6:\n",
        "      votos_6 += 1\n",
        "\n",
        "percentual_nulos = ((total_votos - votos_5) / total_votos) * 100\n",
        "percentual_brancos = ((total_votos - votos_6) / total_votos) * 100\n",
        "\n",
        "print(f'''\n",
        "Total de votos {total_votos}\n",
        "---\n",
        "Ana: {votos_1}\n",
        "Bernardo: {votos_2}\n",
        "Carlos: {votos_3}\n",
        "Daniela: {votos_4}\n",
        "Nulos: {votos_5}\n",
        "Brancos: {votos_6}\n",
        "---\n",
        "Percentual de nulos: {percentual_nulos}\n",
        "Percentual de brancos: {percentual_brancos}\n",
        "''')"
      ],
      "metadata": {
        "id": "041EFrgG-4gR",
        "colab": {
          "base_uri": "https://localhost:8080/"
        },
        "outputId": "f4a173c3-ba4b-4995-8439-0bfccea73f17"
      },
      "execution_count": null,
      "outputs": [
        {
          "output_type": "stream",
          "name": "stdout",
          "text": [
            "\n",
            "  Selecione um dos números abaixo para votar:\n",
            "  [1] Ana\n",
            "  [2] Bernardo\n",
            "  [3] Carlos\n",
            "  [4] Daniela\n",
            "  [5] Nulo\n",
            "  [6] Branco\n",
            "  > 2\n",
            "\n",
            "  Selecione um dos números abaixo para votar:\n",
            "  [1] Ana\n",
            "  [2] Bernardo\n",
            "  [3] Carlos\n",
            "  [4] Daniela\n",
            "  [5] Nulo\n",
            "  [6] Branco\n",
            "  > 2\n",
            "\n",
            "  Selecione um dos números abaixo para votar:\n",
            "  [1] Ana\n",
            "  [2] Bernardo\n",
            "  [3] Carlos\n",
            "  [4] Daniela\n",
            "  [5] Nulo\n",
            "  [6] Branco\n",
            "  > 1\n",
            "\n",
            "  Selecione um dos números abaixo para votar:\n",
            "  [1] Ana\n",
            "  [2] Bernardo\n",
            "  [3] Carlos\n",
            "  [4] Daniela\n",
            "  [5] Nulo\n",
            "  [6] Branco\n",
            "  > 9\n",
            "Valor inválido. Tente novamente.\n",
            "\n",
            "\n",
            "  Selecione um dos números abaixo para votar:\n",
            "  [1] Ana\n",
            "  [2] Bernardo\n",
            "  [3] Carlos\n",
            "  [4] Daniela\n",
            "  [5] Nulo\n",
            "  [6] Branco\n",
            "  > 3\n",
            "\n",
            "  Selecione um dos números abaixo para votar:\n",
            "  [1] Ana\n",
            "  [2] Bernardo\n",
            "  [3] Carlos\n",
            "  [4] Daniela\n",
            "  [5] Nulo\n",
            "  [6] Branco\n",
            "  > 4\n",
            "\n",
            "  Selecione um dos números abaixo para votar:\n",
            "  [1] Ana\n",
            "  [2] Bernardo\n",
            "  [3] Carlos\n",
            "  [4] Daniela\n",
            "  [5] Nulo\n",
            "  [6] Branco\n",
            "  > 5\n",
            "\n",
            "  Selecione um dos números abaixo para votar:\n",
            "  [1] Ana\n",
            "  [2] Bernardo\n",
            "  [3] Carlos\n",
            "  [4] Daniela\n",
            "  [5] Nulo\n",
            "  [6] Branco\n",
            "  > 6\n",
            "\n",
            "  Selecione um dos números abaixo para votar:\n",
            "  [1] Ana\n",
            "  [2] Bernardo\n",
            "  [3] Carlos\n",
            "  [4] Daniela\n",
            "  [5] Nulo\n",
            "  [6] Branco\n",
            "  > 1\n",
            "\n",
            "  Selecione um dos números abaixo para votar:\n",
            "  [1] Ana\n",
            "  [2] Bernardo\n",
            "  [3] Carlos\n",
            "  [4] Daniela\n",
            "  [5] Nulo\n",
            "  [6] Branco\n",
            "  > 2\n",
            "\n",
            "  Selecione um dos números abaixo para votar:\n",
            "  [1] Ana\n",
            "  [2] Bernardo\n",
            "  [3] Carlos\n",
            "  [4] Daniela\n",
            "  [5] Nulo\n",
            "  [6] Branco\n",
            "  > 3\n",
            "\n",
            "  Selecione um dos números abaixo para votar:\n",
            "  [1] Ana\n",
            "  [2] Bernardo\n",
            "  [3] Carlos\n",
            "  [4] Daniela\n",
            "  [5] Nulo\n",
            "  [6] Branco\n",
            "  > 4\n",
            "\n",
            "  Selecione um dos números abaixo para votar:\n",
            "  [1] Ana\n",
            "  [2] Bernardo\n",
            "  [3] Carlos\n",
            "  [4] Daniela\n",
            "  [5] Nulo\n",
            "  [6] Branco\n",
            "  > 5\n",
            "\n",
            "  Selecione um dos números abaixo para votar:\n",
            "  [1] Ana\n",
            "  [2] Bernardo\n",
            "  [3] Carlos\n",
            "  [4] Daniela\n",
            "  [5] Nulo\n",
            "  [6] Branco\n",
            "  > 6\n",
            "\n",
            "  Selecione um dos números abaixo para votar:\n",
            "  [1] Ana\n",
            "  [2] Bernardo\n",
            "  [3] Carlos\n",
            "  [4] Daniela\n",
            "  [5] Nulo\n",
            "  [6] Branco\n",
            "  > 6\n",
            "\n",
            "  Selecione um dos números abaixo para votar:\n",
            "  [1] Ana\n",
            "  [2] Bernardo\n",
            "  [3] Carlos\n",
            "  [4] Daniela\n",
            "  [5] Nulo\n",
            "  [6] Branco\n",
            "  > 5\n",
            "\n",
            "  Selecione um dos números abaixo para votar:\n",
            "  [1] Ana\n",
            "  [2] Bernardo\n",
            "  [3] Carlos\n",
            "  [4] Daniela\n",
            "  [5] Nulo\n",
            "  [6] Branco\n",
            "  > 1\n",
            "\n",
            "  Selecione um dos números abaixo para votar:\n",
            "  [1] Ana\n",
            "  [2] Bernardo\n",
            "  [3] Carlos\n",
            "  [4] Daniela\n",
            "  [5] Nulo\n",
            "  [6] Branco\n",
            "  > 6\n",
            "\n",
            "  Selecione um dos números abaixo para votar:\n",
            "  [1] Ana\n",
            "  [2] Bernardo\n",
            "  [3] Carlos\n",
            "  [4] Daniela\n",
            "  [5] Nulo\n",
            "  [6] Branco\n",
            "  > 2\n",
            "\n",
            "  Selecione um dos números abaixo para votar:\n",
            "  [1] Ana\n",
            "  [2] Bernardo\n",
            "  [3] Carlos\n",
            "  [4] Daniela\n",
            "  [5] Nulo\n",
            "  [6] Branco\n",
            "  > 3\n",
            "\n",
            "  Selecione um dos números abaixo para votar:\n",
            "  [1] Ana\n",
            "  [2] Bernardo\n",
            "  [3] Carlos\n",
            "  [4] Daniela\n",
            "  [5] Nulo\n",
            "  [6] Branco\n",
            "  > 4\n",
            "\n",
            "Total de votos 20\n",
            "---\n",
            "Ana: 3\n",
            "Bernardo: 4\n",
            "Carlos: 3\n",
            "Daniela: 3\n",
            "Nulos: 3\n",
            "Brancos: 4\n",
            "---\n",
            "Percentual de nulos: 85.0\n",
            "Percentual de brancos: 80.0\n",
            "\n"
          ]
        }
      ]
    },
    {
      "cell_type": "markdown",
      "source": [
        "## Aula 5 - Estruturas de dados"
      ],
      "metadata": {
        "id": "eijHQiNU2IZ7"
      }
    },
    {
      "cell_type": "markdown",
      "source": [
        "### Aquecendo na programação"
      ],
      "metadata": {
        "id": "92F0bKtBMgd7"
      }
    },
    {
      "cell_type": "markdown",
      "source": [
        "#### Questão 1\n",
        "Faça um programa que tenha a seguinte lista contendo os valores de gastos de uma empresa de papel `[2172.54, 3701.35, 3518.09, 3456.61, 3249.38, 2840.82, 3891.45, 3075.26, 2317.64, 3219.08]`. Com esses valores, faça um programa que calcule a média de gastos. Dica, use as funções built-in [`sum()`](https://docs.python.org/3/library/functions.html#sum) e [`len()`](https://docs.python.org/3/library/functions.html#len)."
      ],
      "metadata": {
        "id": "IypX2ANuMgeC"
      }
    },
    {
      "cell_type": "code",
      "source": [
        "lista = [2172.54, 3701.35, 3518.09, 3456.61, 3249.38, 2840.82, 3891.45, 3075.26, 2317.64, 3219.08]\n",
        "soma = sum(lista)\n",
        "tamanho = len(lista)\n",
        "media = soma / tamanho\n",
        "media"
      ],
      "metadata": {
        "id": "ge3LuFhLMgeD",
        "colab": {
          "base_uri": "https://localhost:8080/"
        },
        "outputId": "4d1bd809-6930-4831-8c6f-7c91bc4fa114"
      },
      "execution_count": null,
      "outputs": [
        {
          "output_type": "execute_result",
          "data": {
            "text/plain": [
              "3144.222"
            ]
          },
          "metadata": {},
          "execution_count": 6
        }
      ]
    },
    {
      "cell_type": "markdown",
      "source": [
        "#### Questão 2\n",
        " Com os mesmos dados da questão anterior, defina quantas compras foram acima de 3000 reais e calcule a porcentagem quanto ao total de compras."
      ],
      "metadata": {
        "id": "xrOeLhQkMgeD"
      }
    },
    {
      "cell_type": "code",
      "source": [
        "lista = [2172.54, 3701.35, 3518.09, 3456.61, 3249.38, 2840.82, 3891.45, 3075.26, 2317.64, 3219.08]\n",
        "tamanho = len(lista)\n",
        "acima_3000 = 0\n",
        "\n",
        "for item in lista:\n",
        "  if item > 3000:\n",
        "    acima_3000 += 1\n",
        "\n",
        "percentual = ((acima_3000) / tamanho ) * 100\n",
        "percentual"
      ],
      "metadata": {
        "id": "Ygu5TMZyMgeD",
        "colab": {
          "base_uri": "https://localhost:8080/"
        },
        "outputId": "8573aa3a-19a7-44fe-d26f-b7451845b09b"
      },
      "execution_count": null,
      "outputs": [
        {
          "output_type": "execute_result",
          "data": {
            "text/plain": [
              "70.0"
            ]
          },
          "metadata": {},
          "execution_count": 8
        }
      ]
    },
    {
      "cell_type": "markdown",
      "source": [
        "#### Questão 3\n",
        "Faça um código que colete em uma lista 5 números inteiros quaisquer e imprima a lista. Exemplo: `[1,4,7,2,4]`."
      ],
      "metadata": {
        "id": "JgCOrE_BMgeD"
      }
    },
    {
      "cell_type": "code",
      "source": [
        "lista = []\n",
        "\n",
        "for i in range(1, 6):\n",
        "  item = int(input('> Digite um número inteiro: '))\n",
        "  lista.append(item)\n",
        "\n",
        "lista"
      ],
      "metadata": {
        "id": "vtM9O1hLMgeD",
        "colab": {
          "base_uri": "https://localhost:8080/"
        },
        "outputId": "97e8e592-914f-4b5d-bd6e-6d3c4724763a"
      },
      "execution_count": null,
      "outputs": [
        {
          "name": "stdout",
          "output_type": "stream",
          "text": [
            "> Digite um número inteiro: 1\n",
            "> Digite um número inteiro: 2\n",
            "> Digite um número inteiro: 4\n",
            "> Digite um número inteiro: 7\n",
            "> Digite um número inteiro: 2\n"
          ]
        },
        {
          "output_type": "execute_result",
          "data": {
            "text/plain": [
              "[1, 2, 4, 7, 2]"
            ]
          },
          "metadata": {},
          "execution_count": 9
        }
      ]
    },
    {
      "cell_type": "markdown",
      "source": [
        "#### Questão 4\n",
        "Colete novamente 5 inteiros e imprima a lista em ordem inversa à enviada."
      ],
      "metadata": {
        "id": "p3bTp88HMgeD"
      }
    },
    {
      "cell_type": "code",
      "source": [
        "lista = []\n",
        "\n",
        "for i in range(1, 6):\n",
        "  item = int(input('> Digite um número inteiro: '))\n",
        "  lista.insert(-i, item)\n",
        "\n",
        "lista"
      ],
      "metadata": {
        "id": "-CGwMIyHMgeD",
        "colab": {
          "base_uri": "https://localhost:8080/"
        },
        "outputId": "f47f32ec-eaf7-438f-fd12-97913fdf3bef"
      },
      "execution_count": null,
      "outputs": [
        {
          "name": "stdout",
          "output_type": "stream",
          "text": [
            "> Digite um número inteiro: 1\n",
            "> Digite um número inteiro: 2\n",
            "> Digite um número inteiro: 3\n",
            "> Digite um número inteiro: 4\n",
            "> Digite um número inteiro: 5\n"
          ]
        },
        {
          "output_type": "execute_result",
          "data": {
            "text/plain": [
              "[5, 4, 3, 2, 1]"
            ]
          },
          "metadata": {},
          "execution_count": 12
        }
      ]
    },
    {
      "cell_type": "markdown",
      "source": [
        "#### Questão 5\n",
        "Faça um programa que, ao inserir um número qualquer, criará uma lista contendo todos os números primos entre 1 e o número digitado."
      ],
      "metadata": {
        "id": "eIXd_z1lMgeD"
      }
    },
    {
      "cell_type": "code",
      "source": [
        "numero = int(input('> Digite um número: '))\n",
        "lista = []\n",
        "\n",
        "for i in range(1, numero + 1):\n",
        "\n",
        "  qtd_divisores = 0\n",
        "\n",
        "  for j in range(1, i + 1):\n",
        "    if i % j == 0:\n",
        "      qtd_divisores += 1\n",
        "\n",
        "  if qtd_divisores > 2 or i <= 1:\n",
        "    pass\n",
        "  else:\n",
        "    lista.append(i)\n",
        "\n",
        "lista"
      ],
      "metadata": {
        "id": "rj_6GHstMgeE",
        "colab": {
          "base_uri": "https://localhost:8080/"
        },
        "outputId": "ec4fb28e-3a18-428c-e76b-5ed530792e65"
      },
      "execution_count": null,
      "outputs": [
        {
          "name": "stdout",
          "output_type": "stream",
          "text": [
            "> Digite um número: 20\n"
          ]
        },
        {
          "output_type": "execute_result",
          "data": {
            "text/plain": [
              "[2, 3, 5, 7, 11, 13, 17, 19]"
            ]
          },
          "metadata": {},
          "execution_count": 17
        }
      ]
    },
    {
      "cell_type": "markdown",
      "source": [
        "#### Questão 6\n",
        "Escreva um programa que peça uma data informando o dia, mês e ano e determine se ela é uma data válida para uma análise."
      ],
      "metadata": {
        "id": "zrbz3ENlMgeE"
      }
    },
    {
      "cell_type": "code",
      "source": [
        "dia = int(input('> Digite um dia: '))\n",
        "mes = int(input('> Digite um mes: '))\n",
        "ano = int(input('> Digite um ano: '))\n",
        "\n",
        "if mes == 2:\n",
        "  if ano % 4 == 0 and (ano % 400 == 0 or ano % 100 != 0):\n",
        "    dias_fevereiro = 29\n",
        "  else:\n",
        "    dias_fevereiro = 28\n",
        "\n",
        "  if dia >= 1 and dia <= dias_fevereiro:\n",
        "    print('Data válida.')\n",
        "  else:\n",
        "    print('Data inválida.')\n",
        "\n",
        "elif mes in [1, 3, 5, 7, 8, 10, 12]:\n",
        "  if dia >= 1 and dia <= 31:\n",
        "    print('Data válida.')\n",
        "  else:\n",
        "    print('Data inválida.')\n",
        "elif mes in [4, 6, 9, 11]:\n",
        "  if dia >= 1 and dia <= 30:\n",
        "    print('Data válida.')\n",
        "  else:\n",
        "    print('Data inválida.')\n",
        "else:\n",
        "  print('Data inválida.')"
      ],
      "metadata": {
        "id": "0eYA8UjTMgeE",
        "colab": {
          "base_uri": "https://localhost:8080/"
        },
        "outputId": "9066713d-6344-48fa-da29-57c7ba69db98"
      },
      "execution_count": null,
      "outputs": [
        {
          "output_type": "stream",
          "name": "stdout",
          "text": [
            "> Digite um dia: 3\n",
            "> Digite um mes: 6\n",
            "> Digite um ano: 2005\n",
            "Data válida.\n"
          ]
        }
      ]
    },
    {
      "cell_type": "markdown",
      "source": [
        "### Momento dos projetos"
      ],
      "metadata": {
        "id": "ut_4VHdGMgeE"
      }
    },
    {
      "cell_type": "markdown",
      "source": [
        "#### Questão 7\n",
        "Para um estudo envolvendo o nível de multiplicação de bactérias em uma colônia, foi coletado o número de bactérias multiplicadas por dia, com base em um processo de duplicação diária e pode ser observado a seguir: `[1.2, 2.1, 3.3, 5.0, 7.8, 11.3, 16.6, 25.1, 37.8, 56.9]`. Tendo esses valores, faça um código que gere uma lista contendo o percentual de crescimento de bactérias por dia, comparando o número de bactérias em cada dia com o número de bactérias do dia anterior. Dica: para calcular o percentual de crescimento usamos a seguinte equação: `100 * (amostra_atual - amostra_passada) / (amostra_passada)`."
      ],
      "metadata": {
        "id": "G86Z0vD_MgeE"
      }
    },
    {
      "cell_type": "code",
      "source": [
        "bacterias_por_dia = [1.2, 2.1, 3.3, 5.0, 7.8, 11.3, 16.6, 25.1, 37.8, 56.9]\n",
        "percentuais_crescimento = []\n",
        "\n",
        "for i in range(1, len(bacterias_por_dia)):\n",
        "  percentual = 100 * (bacterias_por_dia[i] - bacterias_por_dia[i - 1] ) / (bacterias_por_dia[i - 1] )\n",
        "  percentuais_crescimento.append(percentual)\n",
        "\n",
        "percentuais_crescimento"
      ],
      "metadata": {
        "id": "PXNO_CFkMgeE",
        "colab": {
          "base_uri": "https://localhost:8080/"
        },
        "outputId": "65563728-a3ab-4067-ba60-dab3c2713d77"
      },
      "execution_count": null,
      "outputs": [
        {
          "output_type": "execute_result",
          "data": {
            "text/plain": [
              "[75.00000000000001,\n",
              " 57.142857142857125,\n",
              " 51.51515151515153,\n",
              " 56.0,\n",
              " 44.87179487179489,\n",
              " 46.90265486725664,\n",
              " 51.20481927710843,\n",
              " 50.59760956175297,\n",
              " 50.52910052910054]"
            ]
          },
          "metadata": {},
          "execution_count": 30
        }
      ]
    },
    {
      "cell_type": "markdown",
      "source": [
        "#### Questão 8\n",
        "Para uma seleção de produtos alimentícios, precisamos separar o conjunto de IDs dados por números inteiros, sabendo que os produtos com ID par são doces e os com ID ímpar são amargos. Monte um código que colete 10 IDs. Depois, calcule e mostre a quantidade de produtos doces e amargos."
      ],
      "metadata": {
        "id": "p4nxogpnMgeE"
      }
    },
    {
      "cell_type": "code",
      "source": [
        "produtos = {\n",
        "    'amargos': [],\n",
        "    'doces': []\n",
        "}\n",
        "\n",
        "for i in range(1, 11):\n",
        "\n",
        "  id_produto = int(input('> Digite o ID de um número: '))\n",
        "  if id_produto % 2 == 0:\n",
        "    produtos['doces'].append(id_produto)\n",
        "  else:\n",
        "    produtos['amargos'].append(id_produto)\n",
        "\n",
        "print(f'''\n",
        "Doces ({len(produtos['doces'])}): {produtos['doces']}\n",
        "Amargos ({len(produtos['amargos'])}): {produtos['amargos']}\n",
        "''')"
      ],
      "metadata": {
        "id": "WqjO2SZkMgeE",
        "colab": {
          "base_uri": "https://localhost:8080/"
        },
        "outputId": "02d774a6-0b10-461b-d1bc-a174565f4e2d"
      },
      "execution_count": null,
      "outputs": [
        {
          "output_type": "stream",
          "name": "stdout",
          "text": [
            "> Digite o ID de um número: 2\n",
            "> Digite o ID de um número: 4\n",
            "> Digite o ID de um número: 10\n",
            "> Digite o ID de um número: 33\n",
            "> Digite o ID de um número: 11\n",
            "> Digite o ID de um número: 24\n",
            "> Digite o ID de um número: 28\n",
            "> Digite o ID de um número: 34\n",
            "> Digite o ID de um número: 190\n",
            "> Digite o ID de um número: 81\n",
            "\n",
            "Doces (7): [2, 4, 10, 24, 28, 34, 190]\n",
            "Amargos (3): [33, 11, 81]\n",
            "\n"
          ]
        }
      ]
    },
    {
      "cell_type": "markdown",
      "source": [
        "#### Questão 9\n",
        "Desenvolva um programa que informa a nota de um aluno de acordo com suas respostas. Ele deve pedir a resposta de um aluno para cada questão e é preciso verificar se a resposta foi igual ao gabarito. Cada questão vale um ponto e existem alternativas:  A, B, C ou D.\n",
        "```\n",
        "Gabarito da Prova:\n",
        "01 - D\n",
        "02 - A\n",
        "03 - C\n",
        "04 - B\n",
        "05 - A\n",
        "06 - D\n",
        "07 - C\n",
        "08 - C\n",
        "09 - A\n",
        "10 - B\n",
        "```"
      ],
      "metadata": {
        "id": "t5OrLxV6MgeE"
      }
    },
    {
      "cell_type": "code",
      "source": [
        "prova = {\n",
        "    1: ['D'],\n",
        "    2: ['A'],\n",
        "    3: ['C'],\n",
        "    4: ['B'],\n",
        "    5: ['A'],\n",
        "    6: ['D'],\n",
        "    7: ['C'],\n",
        "    8: ['C'],\n",
        "    9: ['A'],\n",
        "    10: ['B']\n",
        "}\n",
        "\n",
        "acertos = 0\n",
        "\n",
        "for i in range(1, 11):\n",
        "\n",
        "  resposta = input(f'> Digite a resposta correta (A, B, C ou D) para a {i}ª questão: ').upper()\n",
        "  prova[i].append(resposta)\n",
        "\n",
        "  if prova[i][0] == resposta:\n",
        "    prova[i].append('Acertou')\n",
        "    acertos += 1\n",
        "  else:\n",
        "    prova[i].append('Errou')\n",
        "\n",
        "print(f'Nº - Gabarito - Resposta - Status')\n",
        "\n",
        "for q in prova:\n",
        "  print(f'{q} - {prova[q][0]} - {prova[q][1]} - {prova[q][2]}')\n",
        "\n",
        "print(f'Total de acertos: {acertos}')"
      ],
      "metadata": {
        "id": "ytIQDJrQMgeE",
        "colab": {
          "base_uri": "https://localhost:8080/"
        },
        "outputId": "43b6faac-0216-4f44-cdf4-2bb3d383ebfe"
      },
      "execution_count": null,
      "outputs": [
        {
          "output_type": "stream",
          "name": "stdout",
          "text": [
            "> Digite a resposta correta (A, B, C ou D) para a 1ª questão: D\n",
            "> Digite a resposta correta (A, B, C ou D) para a 2ª questão: A\n",
            "> Digite a resposta correta (A, B, C ou D) para a 3ª questão: C\n",
            "> Digite a resposta correta (A, B, C ou D) para a 4ª questão: B\n",
            "> Digite a resposta correta (A, B, C ou D) para a 5ª questão: C\n",
            "> Digite a resposta correta (A, B, C ou D) para a 6ª questão: D\n",
            "> Digite a resposta correta (A, B, C ou D) para a 7ª questão: C\n",
            "> Digite a resposta correta (A, B, C ou D) para a 8ª questão: C\n",
            "> Digite a resposta correta (A, B, C ou D) para a 9ª questão: A\n",
            "> Digite a resposta correta (A, B, C ou D) para a 10ª questão: D\n",
            "Nº - Gabarito - Resposta - Status\n",
            "1 - D - D - Acertou\n",
            "2 - A - A - Acertou\n",
            "3 - C - C - Acertou\n",
            "4 - B - B - Acertou\n",
            "5 - A - C - Errou\n",
            "6 - D - D - Acertou\n",
            "7 - C - C - Acertou\n",
            "8 - C - C - Acertou\n",
            "9 - A - A - Acertou\n",
            "10 - B - D - Errou\n",
            "Total de acertos: 8\n"
          ]
        }
      ]
    },
    {
      "cell_type": "markdown",
      "source": [
        "#### Questão 10\n",
        "Um instituto de meteorologia deseja fazer um estudo de temperatura média de cada mês do ano. Para isso, você precisa fazer um código que colete e armazene essas temperaturas médias em uma lista. Depois, calcule a média anual das temperaturas e mostre todas as temperaturas acima da média anual, e em que mês elas ocorreram, mostrando os meses por extenso: Janeiro, Fevereiro, etc."
      ],
      "metadata": {
        "id": "aSBMzh-AMgeF"
      }
    },
    {
      "cell_type": "code",
      "source": [
        "temperaturas = []\n",
        "meses = ['Janeiro', 'Fevereiro', 'Março', 'Abril',\n",
        "         'Maio', 'Junho', 'Julho', 'Agosto', 'Setembro',\n",
        "         'Outubro', 'Novembro', 'Dezembro']\n",
        "\n",
        "for mes in meses:\n",
        "  temperatura = float(input(f'> Digite a temperatura média de {mes}: '))\n",
        "  temperaturas.append(temperatura)\n",
        "\n",
        "media_anual = sum(temperaturas) / len(temperaturas)\n",
        "\n",
        "print(f'Média anual: {media_anual}')\n",
        "\n",
        "for i in range(0, len(meses)):\n",
        "  if temperaturas[i] > media_anual:\n",
        "    print(f'No mês de {meses[i]} a temperatura estava acima da média anual com, {temperaturas[i]}°C.')\n"
      ],
      "metadata": {
        "id": "ftj04s2uMgeF",
        "colab": {
          "base_uri": "https://localhost:8080/"
        },
        "outputId": "a01edac6-cd53-40f6-b666-bcb76be247fb"
      },
      "execution_count": null,
      "outputs": [
        {
          "output_type": "stream",
          "name": "stdout",
          "text": [
            "> Digite a temperatura média de Janeiro: 26\n",
            "> Digite a temperatura média de Fevereiro: 28\n",
            "> Digite a temperatura média de Março: 23\n",
            "> Digite a temperatura média de Abril: 18\n",
            "> Digite a temperatura média de Maio: 15\n",
            "> Digite a temperatura média de Junho: 10\n",
            "> Digite a temperatura média de Julho: 6\n",
            "> Digite a temperatura média de Agosto: 17\n",
            "> Digite a temperatura média de Setembro: 19\n",
            "> Digite a temperatura média de Outubro: 22\n",
            "> Digite a temperatura média de Novembro: 25\n",
            "> Digite a temperatura média de Dezembro: 29\n",
            "Média anual: 19.833333333333332\n",
            "No mês de Janeiro a temperatura estava acima da média anual com, 26.0°C.\n",
            "No mês de Fevereiro a temperatura estava acima da média anual com, 28.0°C.\n",
            "No mês de Março a temperatura estava acima da média anual com, 23.0°C.\n",
            "No mês de Outubro a temperatura estava acima da média anual com, 22.0°C.\n",
            "No mês de Novembro a temperatura estava acima da média anual com, 25.0°C.\n",
            "No mês de Dezembro a temperatura estava acima da média anual com, 29.0°C.\n"
          ]
        }
      ]
    },
    {
      "cell_type": "markdown",
      "source": [
        "#### Questão 11\n",
        "Uma empresa de e-commerce está interessada em analisar as vendas dos seus produtos. Os dados das vendas foram armazenados em um dicionário:\n",
        "```\n",
        "{'Produto A': 300, 'Produto B': 80, 'Produto C': 60,\n",
        " 'Produto D': 200, 'Produto E': 250, 'Produto F': 30}\n",
        "```\n",
        "Escreva um código que calcule o total de vendas e o produto mais vendido."
      ],
      "metadata": {
        "id": "0X8S6s4jMgeF"
      }
    },
    {
      "cell_type": "code",
      "source": [
        "vendas = {'Produto A': 300, 'Produto B': 80, 'Produto C': 60,\n",
        "          'Produto D': 200, 'Produto E': 250, 'Produto F': 30}\n",
        "\n",
        "total_vendas = 0\n",
        "produto_mais_vendido = ['', 0]\n",
        "\n",
        "for produto, quantidade in vendas.items():\n",
        "\n",
        "  total_vendas += quantidade\n",
        "\n",
        "  if quantidade >= produto_mais_vendido[1]:\n",
        "    produto_mais_vendido[0] = produto\n",
        "    produto_mais_vendido[1] = quantidade\n",
        "\n",
        "print(f'''---------\n",
        "Total de vendas: {total_vendas}\n",
        "---------\n",
        "Produto mais vendido:\n",
        "  > Nome: {produto_mais_vendido[0]}\n",
        "  > Quantidade: {produto_mais_vendido[1]}\n",
        "''')"
      ],
      "metadata": {
        "id": "Xa3DJLtFMgeF",
        "outputId": "f36a64fa-29c1-4f76-81bb-a08a4cf9e5fa",
        "colab": {
          "base_uri": "https://localhost:8080/"
        }
      },
      "execution_count": 5,
      "outputs": [
        {
          "output_type": "stream",
          "name": "stdout",
          "text": [
            "---------\n",
            "Total de vendas: 920\n",
            "---------\n",
            "Produto mais vendido:\n",
            "  > Nome: Produto A\n",
            "  > Quantidade: 300\n",
            "\n"
          ]
        }
      ]
    },
    {
      "cell_type": "markdown",
      "source": [
        "#### Questão 12\n",
        "Uma pesquisa de mercado foi feita para decidir qual design de uma marca infantil mais agrada crianças. A pesquisa foi feita e o votos computados podem ser observados abaixo:\n",
        "```\n",
        "'''\n",
        "Tabela de votos da marca\n",
        "Design 1 - 1334 votos\n",
        "Design 2 - 982 votos\n",
        "Design 3 - 1751 votos\n",
        "Design 4 - 210 votos\n",
        "Design 5 - 1811 votos\n",
        "'''\n",
        "```\n",
        "Adapte os dados fornecidos a você para uma estrutura de dicionário e a partir dele, informe o design vencedor e a porcentagem de votos recebidos.\n"
      ],
      "metadata": {
        "id": "nrEwf_1ZMgeF"
      }
    },
    {
      "cell_type": "code",
      "source": [
        "votos_designs = {\n",
        "    'design_1': 1334,\n",
        "    'design_2': 982,\n",
        "    'design_3': 1751,\n",
        "    'design_4': 210,\n",
        "    'design_5': 1811\n",
        "}\n",
        "\n",
        "vencedor = ['', 0, 0.0]\n",
        "total_votos = 0\n",
        "\n",
        "for design, votos in votos_designs.items():\n",
        "\n",
        "  total_votos += votos\n",
        "\n",
        "  if votos >= vencedor[1]:\n",
        "    vencedor[0] = design\n",
        "    vencedor[1] = votos\n",
        "\n",
        "vencedor[2] = (vencedor[1]/total_votos) * 100\n",
        "\n",
        "print(f'''Vencedor: {vencedor[0]}\n",
        "Porcentagem de votos: {vencedor[2]:.2f}%\n",
        "''')"
      ],
      "metadata": {
        "id": "MRPcGR-_MgeF",
        "outputId": "17738b08-c6a6-4424-ac8f-6cc973227b24",
        "colab": {
          "base_uri": "https://localhost:8080/"
        }
      },
      "execution_count": 7,
      "outputs": [
        {
          "output_type": "stream",
          "name": "stdout",
          "text": [
            "Vencedor: design_5\n",
            "Porcentagem de votos: 29.75% \n",
            "\n"
          ]
        }
      ]
    },
    {
      "cell_type": "markdown",
      "source": [
        "#### Questão 13\n",
        "Os funcionários de um setor da empresa que você trabalha vão receber um abono correspondente a 10% do seu salário devido ao ótimo desempenho do time. O setor financeiro solicitou sua ajuda para a verificação das consequências financeiras que esse abono irá gerar nos recursos. Assim, foi encaminhada para você uma lista com os salários que receberão o abono: `[1172, 1644, 2617, 5130, 5532, 6341, 6650, 7238, 7685, 7782, 7903]`. O abono de cada funcionário não pode ser inferior a 200. Em código, transforme cada um dos salários em chaves de um dicionário e o abono de cada salário no elemento. Depois, informe o total de gastos com o abono, quantos funcionários receberam o abono mínimo e qual o maior valor de abono fornecido.\n"
      ],
      "metadata": {
        "id": "HRTFFzKIMgeF"
      }
    },
    {
      "cell_type": "code",
      "source": [
        "funcionarios = {1172: 0.0,\n",
        "                1644: 0.0,\n",
        "                2617: 0.0,\n",
        "                5130: 0.0,\n",
        "                5532: 0.0,\n",
        "                6341: 0.0,\n",
        "                6650: 0.0,\n",
        "                7238: 0.0,\n",
        "                7685: 0.0,\n",
        "                7782: 0.0,\n",
        "                7903: 0.0}\n",
        "\n",
        "total_gastos_abono = 0\n",
        "funcionarios_abono_minimo = 0\n",
        "maior_abono = 0\n",
        "\n",
        "for salario, abono in funcionarios.items():\n",
        "\n",
        "  funcionarios.update({salario: salario * 0.1})\n",
        "\n",
        "  if funcionarios[salario] <= 200:\n",
        "    funcionarios[salario] = 200\n",
        "    funcionarios_abono_minimo += 1\n",
        "\n",
        "  if funcionarios[salario] >= maior_abono:\n",
        "    maior_abono = funcionarios[salario]\n",
        "\n",
        "  total_gastos_abono += funcionarios[salario]\n",
        "\n",
        "print(f'''Total de gastos com abono: {total_gastos_abono}\n",
        "Funcionários que receberão abono mínimo (R$ 200,00): {funcionarios_abono_minimo}\n",
        "Maior abono fornecido: {maior_abono:.2f}''')"
      ],
      "metadata": {
        "id": "QsDSCua42bLB",
        "outputId": "8ec9a175-0cc7-4251-a1bb-ffdbb1a472a3",
        "colab": {
          "base_uri": "https://localhost:8080/"
        }
      },
      "execution_count": 13,
      "outputs": [
        {
          "output_type": "stream",
          "name": "stdout",
          "text": [
            "Total de gastos com abono: 6087.8\n",
            "Funcionários que receberão abono mínimo (R$ 200,00): 2\n",
            "Maior abono fornecido: 790.30\n"
          ]
        }
      ]
    },
    {
      "cell_type": "markdown",
      "source": [
        "#### Questão 14\n",
        "Uma equipe de cientistas de dados está estudando a diversidade biológica em uma floresta. A equipe fez a coleta de informações sobre o número de espécies de plantas e animais em cada área da floresta e armazenaram essas informações em um dicionário. Nele, a chave descreve a área dos dados e os valores nas listas correspondem às espécies de plantas e animais nas áreas, respectivamente.\n",
        "```\n",
        "{'Área Norte': [2819, 7236],\n",
        " 'Área Leste': [1440, 9492],\n",
        " 'Área Sul': [5969, 7496],\n",
        " 'Área Oeste': [14446, 49688],\n",
        " 'Área Centro': [22558, 45148]}\n",
        "```\n",
        "Escreva um código para calcular a média de espécies por área e identificar a área com a maior diversidade biológica. Dica: use as funções built-in [`sum()`](https://docs.python.org/3/library/functions.html#sum) e [`len()`](https://docs.python.org/3/library/functions.html#len).\n"
      ],
      "metadata": {
        "id": "6dEXZEwjMlWy"
      }
    },
    {
      "cell_type": "code",
      "source": [
        "seres_vivos = { 'Área Norte': [2819, 7236],\n",
        "                'Área Leste': [1440, 9492],\n",
        "                'Área Sul': [5969, 7496],\n",
        "                'Área Oeste': [14446, 49688],\n",
        "                'Área Centro': [22558, 45148]}\n",
        "\n",
        "area_mais_biodiversa = ['', 0]\n",
        "total_especies_geral = 0\n",
        "areas = len(seres_vivos)\n",
        "\n",
        "for area, lista_especies in seres_vivos.items():\n",
        "\n",
        "  if sum(lista_especies) > area_mais_biodiversa[1]:\n",
        "    area_mais_biodiversa[0] = area\n",
        "    area_mais_biodiversa[1] = sum(lista_especies)\n",
        "\n",
        "  total_especies_geral += sum(lista_especies)\n",
        "\n",
        "media_especies_por_area = total_especies_geral / len(seres_vivos)\n",
        "\n",
        "print(f'''A \"{area_mais_biodiversa[0]}\" é a área com maior diversidade biológica, contendo {area_mais_biodiversa[1]} espécies.\n",
        "A média de espécies, por área, é igual a {media_especies_por_area:.2f}.''')"
      ],
      "metadata": {
        "id": "eQnOUDfYMlWy",
        "outputId": "94120bc5-21fd-4562-a420-f96f220ba3ff",
        "colab": {
          "base_uri": "https://localhost:8080/"
        }
      },
      "execution_count": 17,
      "outputs": [
        {
          "output_type": "stream",
          "name": "stdout",
          "text": [
            "A \"Área Centro\" é a área com maior diversidade biológica, contendo 67706 espécies.\n",
            "A média de espécies, por área, é igual a 33258.40.\n"
          ]
        }
      ]
    },
    {
      "cell_type": "markdown",
      "source": [
        "#### Questão 15\n",
        "O setor de RH da sua empresa te pediu uma ajuda para analisar as idades dos funcionários de 4 setores da empresa. Para isso, ele te forneceu os seguintes dados:\n",
        "```\n",
        "{'Setor A': [22, 26, 30, 30, 35, 38, 40, 56, 57, 65],\n",
        " 'Setor B': [22, 24, 26, 33, 41, 49, 50, 54, 60, 64],\n",
        " 'Setor C': [23, 26, 26, 29, 34, 35, 36, 41, 52, 56],\n",
        " 'Setor D': [19, 20, 25, 27, 34, 39, 42, 44, 50, 65]}\n",
        "```\n",
        "Sabendo que cada setor tem 10 funcionários, construa um código que calcule a média de idade de cada setor, a idade média geral entre todos os setores e quantas pessoas estão acima da idade média geral.\n"
      ],
      "metadata": {
        "id": "r0RW2Sy_MlWy"
      }
    },
    {
      "cell_type": "code",
      "source": [
        "funcionarios = {'Setor A': [22, 26, 30, 30, 35, 38, 40, 56, 57, 65],\n",
        "                'Setor B': [22, 24, 26, 33, 41, 49, 50, 54, 60, 64],\n",
        "                'Setor C': [23, 26, 26, 29, 34, 35, 36, 41, 52, 56],\n",
        "                'Setor D': [19, 20, 25, 27, 34, 39, 42, 44, 50, 65]}\n",
        "\n",
        "total_idade_geral = 0\n",
        "media_idade_por_setor = []\n",
        "pessoas_acima_da_media = 0\n",
        "total_funcionarios = 0\n",
        "\n",
        "for setor, lista_idades in funcionarios.items():\n",
        "  media_idade = sum(lista_idades) / len(lista_idades)\n",
        "  media_idade_por_setor.append(media_idade)\n",
        "  total_idade_geral += sum(lista_idades)\n",
        "  total_funcionarios += len(lista_idades)\n",
        "\n",
        "media_idade_geral = total_idade_geral / total_funcionarios\n",
        "\n",
        "for lista_idades in funcionarios.values():\n",
        "  for idade in lista_idades:\n",
        "    if idade > media_idade_geral:\n",
        "      pessoas_acima_da_media += 1\n",
        "\n",
        "print(f'''Média de idade por setor: {media_idade_por_setor}\n",
        "Média geral das idades: {media_idade_geral}\n",
        "Quantidade de pessoas com idade acima da média: {pessoas_acima_da_media}\n",
        "''')"
      ],
      "metadata": {
        "id": "wCiwyKP3MmTz",
        "outputId": "49db9470-726a-4954-9e16-976dc997a76e",
        "colab": {
          "base_uri": "https://localhost:8080/"
        }
      },
      "execution_count": 20,
      "outputs": [
        {
          "output_type": "stream",
          "name": "stdout",
          "text": [
            "Média de idade por setor: [39.9, 42.3, 35.8, 36.5]\n",
            "Média geral das idades: 38.625\n",
            "Quantidade de pessoas com idade acima da média: 18\n",
            "\n"
          ]
        }
      ]
    }
  ]
}